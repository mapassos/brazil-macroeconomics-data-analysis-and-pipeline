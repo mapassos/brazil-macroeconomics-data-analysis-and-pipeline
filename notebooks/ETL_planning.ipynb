{
 "cells": [
  {
   "cell_type": "markdown",
   "id": "5a897d30-580f-4347-a48b-bf170293e533",
   "metadata": {},
   "source": [
    "<h1>ETL planning for Brazilian Interest Rate and Inflation Rate Data Analysis</h1> \n",
    "Author: <a href=https://www.linkedin.com/in/mailson-p-92909928a/> Mailson Vieira Passos <a/>\n",
    "\n",
    "<hr>"
   ]
  },
  {
   "cell_type": "markdown",
   "id": "f4ac379d-7a20-48de-a6b1-a73efff1bf08",
   "metadata": {},
   "source": [
    "<h2>Table of content</h2>\n",
    "<div class=\"alert alert-block alert-danger\" style=\"background-color: #ffffee; margin-top: 20px; margin-left: 10px; color: black; font-size: 15px\">\n",
    "    <ol>\n",
    "        <li><a href=\"#Motivation\">Motivation</a></li>\n",
    "        <li><a href=\"#Objective\">Objective</a></li>\n",
    "        <li><a href=\"#Requirements\">Requirements</a></li>\n",
    "        <li><a href=\"#ETL\">ETL + pre-analysis </a></li>\n",
    "            <ol>\n",
    "                <li><a href=\"#Selic\">Selic</a></li>\n",
    "                <li><a href=\"#IPCA\">IPCA</a></li>\n",
    "            </ol>    \n",
    "    </ol>\n",
    "\n",
    "</div>"
   ]
  },
  {
   "cell_type": "markdown",
   "id": "a827ea7b-d6b6-4a88-af90-dc49453a19fa",
   "metadata": {},
   "source": [
    "<h2><span id='Motivation'>Motivation</span></h2>\n",
    "Lately, Brazil's interest rate has been increasing non-stop and I wanted to understand more about it. I also wanted to apply some statistical knowlegdge that I recently acquired to analyze it.\n",
    "\n",
    "Let's begin with some definitions\n",
    "</ul>"
   ]
  },
  {
   "cell_type": "markdown",
   "id": "b4f913e1-389f-4a48-8b39-659f95e0e87e",
   "metadata": {},
   "source": [
    "What is the Selic (interest rate)?\n",
    "\n",
    "> The Selic rate is the reference interest rate for the Brazilian economy. It influences other rates, such as those used in loans, financing and investments. Setting a target for the Selic rate is the main monetary policy instrument used by the Banco Central do Brasil (BCB) to control inflation.  \n",
    "> The Selic rate is calculated by taking the average interest rate charged on overnight operations collateralized by federal government securities traded in the local market. The BCB carries out operations in the market of government securities so that the Selic rate is in line with the target set by the Monetary Policy Committee (Copom) of the BCB   \n",
    "\\\n",
    "Source: <a href = 'https://www.bcb.gov.br/en/monetarypolicy/selicrate'> <b>Brazilian Central Bank</b> </a>\n",
    "\n",
    "What is the IPCA?\n",
    "\n",
    ">The National System of Consumer Price Indexes - SNIPC continuously and systematically produces the Extended National Consumer Price Index - IPCA, aimed at measuring the inflation rate for a group of products and services from retail trade, relative to household expenditure. That income range was created in order to guarantee a 90% coverage of families living in urban areas included in the National System of Consumer Price Indexes - SNIPC.   (IBGE).  \n",
    "\\\n",
    "Source: <a href = 'https://www.ibge.gov.br/en/statistics/economic/prices-and-costs/17129-extended-national-consumer-price-index.html?=&t=o-que-e'> <b>Brazilian Institute of Geography and Statistics (IBGE)</b> </a>\n"
   ]
  },
  {
   "cell_type": "markdown",
   "id": "dd727ead-fb0a-4515-bef5-52cb43f00823",
   "metadata": {},
   "source": [
    "<hr>\n",
    "\n",
    "<h2><span id='Objective'>Objective</span></h2>\n",
    "<ul>\n",
    "    <li>Extract the interest rate data which is available at <a href=https://www.bcb.gov.br/controleinflacao/historicotaxasjuros>Banco Central do Brasil</a> and the inflation rate that is available at <a href=https://www.ibge.gov.br/estatisticas/economicas/precos-e-custos/9256-indice-nacional-de-precos-ao-consumidor-amplo.html?=&t=downloads>IBGE</a></li>\n",
    "    <li>Do the necessary transformations</li>\n",
    "    <li>Pre-analysis</li>\n",
    "</ul>"
   ]
  },
  {
   "cell_type": "markdown",
   "id": "a3801dd3-75a7-4078-a993-ebbad66464c4",
   "metadata": {},
   "source": [
    "<hr>\n",
    "<h2>Requirements</h2>\n",
    "\n",
    "```python\n",
    "!pip install pandas==2.0.0\n",
    "!pip install numpy==1.26.1\n",
    "!pip install matplotlib==3.8.0\n",
    "!pip install seaborn==0.13.2\n",
    "!pip install requests==2.31.0\n",
    "```\n",
    "<hr>"
   ]
  },
  {
   "cell_type": "markdown",
   "id": "b47a833f-61d2-49b0-a7ce-68e1353d941d",
   "metadata": {},
   "source": [
    "<h2><span id='ColetaTransf'></span>ETL and pre-analysis</h2>\n",
    "\n",
    "<h3><span id='Selic'></span>1. Selic</h3>\n"
   ]
  },
  {
   "cell_type": "code",
   "execution_count": 1,
   "id": "a9e91857-9bc4-4885-8a36-633d8c9d1fab",
   "metadata": {},
   "outputs": [],
   "source": [
    "import matplotlib.pyplot as plt\n",
    "import numpy as np\n",
    "import pandas as pd\n",
    "import seaborn as sns\n",
    "import os"
   ]
  },
  {
   "cell_type": "code",
   "execution_count": 2,
   "id": "5dfd730e-a3cb-4745-acdd-dc769efffc1b",
   "metadata": {},
   "outputs": [],
   "source": [
    "os.chdir('../')\n",
    "selic_data_file = r'data/selic.tsv'"
   ]
  },
  {
   "cell_type": "code",
   "execution_count": 3,
   "id": "3934e40d-c30b-49cb-95ab-869de8789ca7",
   "metadata": {},
   "outputs": [
    {
     "data": {
      "text/html": [
       "<div>\n",
       "<style scoped>\n",
       "    .dataframe tbody tr th:only-of-type {\n",
       "        vertical-align: middle;\n",
       "    }\n",
       "\n",
       "    .dataframe tbody tr th {\n",
       "        vertical-align: top;\n",
       "    }\n",
       "\n",
       "    .dataframe thead th {\n",
       "        text-align: right;\n",
       "    }\n",
       "</style>\n",
       "<table border=\"1\" class=\"dataframe\">\n",
       "  <thead>\n",
       "    <tr style=\"text-align: right;\">\n",
       "      <th></th>\n",
       "      <th>reuniao_num</th>\n",
       "      <th>reuniao_data</th>\n",
       "      <th>reuniao_vies</th>\n",
       "      <th>periodo_vigencia</th>\n",
       "      <th>meta_selic_pctaa</th>\n",
       "      <th>tban_pctam</th>\n",
       "      <th>taxa_selic_pct</th>\n",
       "      <th>taxa_selic_pctaa</th>\n",
       "    </tr>\n",
       "  </thead>\n",
       "  <tbody>\n",
       "    <tr>\n",
       "      <th>0</th>\n",
       "      <td>269ª</td>\n",
       "      <td>19/03/2025</td>\n",
       "      <td>NaN</td>\n",
       "      <td>20/03/2025 -</td>\n",
       "      <td>14,25</td>\n",
       "      <td>NaN</td>\n",
       "      <td>NaN</td>\n",
       "      <td>NaN</td>\n",
       "    </tr>\n",
       "    <tr>\n",
       "      <th>1</th>\n",
       "      <td>268ª</td>\n",
       "      <td>29/01/2025</td>\n",
       "      <td>NaN</td>\n",
       "      <td>30/01/2025 - 19/03/2025</td>\n",
       "      <td>13,25</td>\n",
       "      <td>NaN</td>\n",
       "      <td>1,63</td>\n",
       "      <td>13,15</td>\n",
       "    </tr>\n",
       "    <tr>\n",
       "      <th>2</th>\n",
       "      <td>267ª</td>\n",
       "      <td>11/12/2024</td>\n",
       "      <td>NaN</td>\n",
       "      <td>12/12/2024 - 29/01/2025</td>\n",
       "      <td>12,25</td>\n",
       "      <td>NaN</td>\n",
       "      <td>1,51</td>\n",
       "      <td>12,15</td>\n",
       "    </tr>\n",
       "    <tr>\n",
       "      <th>3</th>\n",
       "      <td>266ª</td>\n",
       "      <td>06/11/2024</td>\n",
       "      <td>NaN</td>\n",
       "      <td>07/11/2024 - 11/12/2024</td>\n",
       "      <td>11,25</td>\n",
       "      <td>NaN</td>\n",
       "      <td>0,97</td>\n",
       "      <td>11,15</td>\n",
       "    </tr>\n",
       "    <tr>\n",
       "      <th>4</th>\n",
       "      <td>265ª</td>\n",
       "      <td>18/09/2024</td>\n",
       "      <td>NaN</td>\n",
       "      <td>19/09/2024 - 06/11/2024</td>\n",
       "      <td>10,75</td>\n",
       "      <td>NaN</td>\n",
       "      <td>1,42</td>\n",
       "      <td>10,65</td>\n",
       "    </tr>\n",
       "  </tbody>\n",
       "</table>\n",
       "</div>"
      ],
      "text/plain": [
       "  reuniao_num reuniao_data reuniao_vies         periodo_vigencia   \n",
       "0        269ª   19/03/2025          NaN             20/03/2025 -  \\\n",
       "1        268ª   29/01/2025          NaN  30/01/2025 - 19/03/2025   \n",
       "2        267ª   11/12/2024          NaN  12/12/2024 - 29/01/2025   \n",
       "3        266ª   06/11/2024          NaN  07/11/2024 - 11/12/2024   \n",
       "4        265ª   18/09/2024          NaN  19/09/2024 - 06/11/2024   \n",
       "\n",
       "  meta_selic_pctaa tban_pctam taxa_selic_pct taxa_selic_pctaa  \n",
       "0            14,25        NaN            NaN              NaN  \n",
       "1            13,25        NaN           1,63            13,15  \n",
       "2            12,25        NaN           1,51            12,15  \n",
       "3            11,25        NaN           0,97            11,15  \n",
       "4            10,75        NaN           1,42            10,65  "
      ]
     },
     "execution_count": 3,
     "metadata": {},
     "output_type": "execute_result"
    }
   ],
   "source": [
    "selic_df = pd.read_csv(\n",
    "    selic_data_file,\n",
    "    header = None,\n",
    "    sep = '\\t'\n",
    ")\n",
    "selic_cols =[\n",
    "    'reuniao_num',\n",
    "    'reuniao_data',\n",
    "    'reuniao_vies',\n",
    "    'periodo_vigencia',\n",
    "    'meta_selic_pctaa',\n",
    "    'tban_pctam',\n",
    "    'taxa_selic_pct',\n",
    "    'taxa_selic_pctaa'\n",
    "]\n",
    "selic_df.columns = selic_cols\n",
    "selic_df.head()"
   ]
  },
  {
   "cell_type": "markdown",
   "id": "b44edc21-78ad-496f-be77-8521c9247033",
   "metadata": {},
   "source": [
    "<h4>Dataset dictionary</h4>\n",
    "\n",
    "| Variable                  | Description                          |\n",
    "|---------------------------|-------------------------------------|\n",
    "| reuniao_num               | Ordinal classification of the Copom' meeting    |\n",
    "| reuniao_data              | Meeting's date                                 |\n",
    "| reuniao_vies              | The indicated bias for the upcoming change in the target interest rate. This change may be implemented in accordance with the bias, at any time.                         |\n",
    "| periodo_vigencia          | The time period which the target interest rate is /was in place.  |                                  \n",
    "| meta_selic_pctaa          | The established annual interest rate, set as a reference  |\n",
    "| tban_pctam                | The Brazilian Central Bank Assistance Rate is an instrument that is charged on loans when banks do not have government bonds to offer as collateral or when they exceed the credit limits of the line that uses the Central Bank's Basic Rate.   |\n",
    "| taxa_selic_pct            | The weighted and adjusted average of the daily financing transactions calculated by the SELIC (a Special Settlement and Custody System) to the one-day repurchase operations backed by government bonds and accumulated over the period. |\n",
    "| taxa_selic_pctaa          | The annual interest rate based on 252 working days   |\n",
    "\n",
    "Some additional information that needs to be addded: Brazil has the interest rate (called Selic rate) as well as a  target interest rate called 'Meta rate'. While the latter is computed and published by the The Monetary Policy Committee (COPOM), the former is a result of the daily SELIC (Special Settlement and Custody System) operations, which is conducted for financial institutions."
   ]
  },
  {
   "cell_type": "markdown",
   "id": "d19eb199-87e8-4e4b-9bb0-50f57026f18f",
   "metadata": {},
   "source": [
    "The column periodo_vigencia contains both the end and start date, so we will split it nto two columns: start date and end date. Before doing this, we need to standardize the formatting because in the first row is missing an end date, and the string ends after the hyphen. Therefore we will add a spece after the hyphen in the first column and then split it into two columns. The first will be named vigencia_inicio(start_date) and the second, vigencia_fim(end_date)."
   ]
  },
  {
   "cell_type": "code",
   "execution_count": 4,
   "id": "8ccceb7b-5aac-4d2b-bf87-addaa718e1d9",
   "metadata": {},
   "outputs": [
    {
     "data": {
      "text/html": [
       "<div>\n",
       "<style scoped>\n",
       "    .dataframe tbody tr th:only-of-type {\n",
       "        vertical-align: middle;\n",
       "    }\n",
       "\n",
       "    .dataframe tbody tr th {\n",
       "        vertical-align: top;\n",
       "    }\n",
       "\n",
       "    .dataframe thead th {\n",
       "        text-align: right;\n",
       "    }\n",
       "</style>\n",
       "<table border=\"1\" class=\"dataframe\">\n",
       "  <thead>\n",
       "    <tr style=\"text-align: right;\">\n",
       "      <th></th>\n",
       "      <th>reuniao_num</th>\n",
       "      <th>reuniao_data</th>\n",
       "      <th>reuniao_vies</th>\n",
       "      <th>periodo_vigencia</th>\n",
       "      <th>meta_selic_pctaa</th>\n",
       "      <th>tban_pctam</th>\n",
       "      <th>taxa_selic_pct</th>\n",
       "      <th>taxa_selic_pctaa</th>\n",
       "      <th>vigencia_inicio</th>\n",
       "      <th>vigencia_fim</th>\n",
       "    </tr>\n",
       "  </thead>\n",
       "  <tbody>\n",
       "    <tr>\n",
       "      <th>0</th>\n",
       "      <td>269ª</td>\n",
       "      <td>19/03/2025</td>\n",
       "      <td>NaN</td>\n",
       "      <td>20/03/2025 -</td>\n",
       "      <td>14,25</td>\n",
       "      <td>NaN</td>\n",
       "      <td>NaN</td>\n",
       "      <td>NaN</td>\n",
       "      <td>20/03/2025</td>\n",
       "      <td></td>\n",
       "    </tr>\n",
       "    <tr>\n",
       "      <th>1</th>\n",
       "      <td>268ª</td>\n",
       "      <td>29/01/2025</td>\n",
       "      <td>NaN</td>\n",
       "      <td>30/01/2025 - 19/03/2025</td>\n",
       "      <td>13,25</td>\n",
       "      <td>NaN</td>\n",
       "      <td>1,63</td>\n",
       "      <td>13,15</td>\n",
       "      <td>30/01/2025</td>\n",
       "      <td>19/03/2025</td>\n",
       "    </tr>\n",
       "    <tr>\n",
       "      <th>2</th>\n",
       "      <td>267ª</td>\n",
       "      <td>11/12/2024</td>\n",
       "      <td>NaN</td>\n",
       "      <td>12/12/2024 - 29/01/2025</td>\n",
       "      <td>12,25</td>\n",
       "      <td>NaN</td>\n",
       "      <td>1,51</td>\n",
       "      <td>12,15</td>\n",
       "      <td>12/12/2024</td>\n",
       "      <td>29/01/2025</td>\n",
       "    </tr>\n",
       "    <tr>\n",
       "      <th>3</th>\n",
       "      <td>266ª</td>\n",
       "      <td>06/11/2024</td>\n",
       "      <td>NaN</td>\n",
       "      <td>07/11/2024 - 11/12/2024</td>\n",
       "      <td>11,25</td>\n",
       "      <td>NaN</td>\n",
       "      <td>0,97</td>\n",
       "      <td>11,15</td>\n",
       "      <td>07/11/2024</td>\n",
       "      <td>11/12/2024</td>\n",
       "    </tr>\n",
       "    <tr>\n",
       "      <th>4</th>\n",
       "      <td>265ª</td>\n",
       "      <td>18/09/2024</td>\n",
       "      <td>NaN</td>\n",
       "      <td>19/09/2024 - 06/11/2024</td>\n",
       "      <td>10,75</td>\n",
       "      <td>NaN</td>\n",
       "      <td>1,42</td>\n",
       "      <td>10,65</td>\n",
       "      <td>19/09/2024</td>\n",
       "      <td>06/11/2024</td>\n",
       "    </tr>\n",
       "  </tbody>\n",
       "</table>\n",
       "</div>"
      ],
      "text/plain": [
       "  reuniao_num reuniao_data reuniao_vies         periodo_vigencia   \n",
       "0        269ª   19/03/2025          NaN            20/03/2025 -   \\\n",
       "1        268ª   29/01/2025          NaN  30/01/2025 - 19/03/2025   \n",
       "2        267ª   11/12/2024          NaN  12/12/2024 - 29/01/2025   \n",
       "3        266ª   06/11/2024          NaN  07/11/2024 - 11/12/2024   \n",
       "4        265ª   18/09/2024          NaN  19/09/2024 - 06/11/2024   \n",
       "\n",
       "  meta_selic_pctaa tban_pctam taxa_selic_pct taxa_selic_pctaa vigencia_inicio   \n",
       "0            14,25        NaN            NaN              NaN      20/03/2025  \\\n",
       "1            13,25        NaN           1,63            13,15      30/01/2025   \n",
       "2            12,25        NaN           1,51            12,15      12/12/2024   \n",
       "3            11,25        NaN           0,97            11,15      07/11/2024   \n",
       "4            10,75        NaN           1,42            10,65      19/09/2024   \n",
       "\n",
       "  vigencia_fim  \n",
       "0               \n",
       "1   19/03/2025  \n",
       "2   29/01/2025  \n",
       "3   11/12/2024  \n",
       "4   06/11/2024  "
      ]
     },
     "execution_count": 4,
     "metadata": {},
     "output_type": "execute_result"
    }
   ],
   "source": [
    "selic_df.at[0, 'periodo_vigencia'] = selic_df.at[0,'periodo_vigencia'] + ' '\n",
    "selic_df[['vigencia_inicio', 'vigencia_fim']] = selic_df['periodo_vigencia'].str.split(' - ', expand =  True)\n",
    "selic_df.head()"
   ]
  },
  {
   "cell_type": "markdown",
   "id": "dd556b85-84ca-4e02-add9-121b95c9fd36",
   "metadata": {},
   "source": [
    "We can now drop the periodo_vigencia column"
   ]
  },
  {
   "cell_type": "code",
   "execution_count": 5,
   "id": "fe7d564b-f71a-4225-a5c2-8ad39518f427",
   "metadata": {},
   "outputs": [],
   "source": [
    "selic_df = selic_df.drop(['periodo_vigencia'], axis = 1)\n",
    "selic_cols = selic_df.columns"
   ]
  },
  {
   "cell_type": "markdown",
   "id": "7a90f630-c8ee-4825-a2d9-87b068d9bc00",
   "metadata": {},
   "source": [
    "It time to check if we have missing data?"
   ]
  },
  {
   "cell_type": "code",
   "execution_count": 6,
   "id": "65cad3aa-571e-4450-8527-0e4665e7e4e7",
   "metadata": {},
   "outputs": [
    {
     "data": {
      "text/plain": [
       "340"
      ]
     },
     "execution_count": 6,
     "metadata": {},
     "output_type": "execute_result"
    }
   ],
   "source": [
    "selic_df.isnull().sum().sum()"
   ]
  },
  {
   "cell_type": "markdown",
   "id": "265b8af9-521f-4450-8373-7e15d526241a",
   "metadata": {},
   "source": [
    "Quite a lot. Let's check the data types."
   ]
  },
  {
   "cell_type": "code",
   "execution_count": 7,
   "id": "d3dcafc0-5ec3-4c93-9661-f9e987a77ecf",
   "metadata": {},
   "outputs": [
    {
     "name": "stdout",
     "output_type": "stream",
     "text": [
      "<class 'pandas.core.frame.DataFrame'>\n",
      "RangeIndex: 277 entries, 0 to 276\n",
      "Data columns (total 9 columns):\n",
      " #   Column            Non-Null Count  Dtype \n",
      "---  ------            --------------  ----- \n",
      " 0   reuniao_num       277 non-null    object\n",
      " 1   reuniao_data      277 non-null    object\n",
      " 2   reuniao_vies      187 non-null    object\n",
      " 3   meta_selic_pctaa  277 non-null    object\n",
      " 4   tban_pctam        29 non-null     object\n",
      " 5   taxa_selic_pct    276 non-null    object\n",
      " 6   taxa_selic_pctaa  276 non-null    object\n",
      " 7   vigencia_inicio   277 non-null    object\n",
      " 8   vigencia_fim      277 non-null    object\n",
      "dtypes: object(9)\n",
      "memory usage: 19.6+ KB\n"
     ]
    }
   ],
   "source": [
    "selic_df.info()"
   ]
  },
  {
   "cell_type": "markdown",
   "id": "e1fae2c4-3126-4a9e-b045-f815db0c6ce6",
   "metadata": {},
   "source": [
    "Every column are object typed. This may mean that every column only contains strings, or they are mixed typed. We will check this with the following function."
   ]
  },
  {
   "cell_type": "code",
   "execution_count": 8,
   "id": "2a46b2d3-40fc-45d3-8fc9-fcc47c229883",
   "metadata": {},
   "outputs": [],
   "source": [
    "def dfcols_type(df: pd.DataFrame, filter: bool | None = None) -> dict[str, set]:\n",
    "    '''Show the data types in each column of a pandas' Dataframe\n",
    "    \n",
    "    Parameters:\n",
    "    -----\n",
    "    df: pd.DataFrame\n",
    "        Dataframe to be analysed.\n",
    "    filter: bool, optional\n",
    "        If True, display only the column containing data with two or more types.\n",
    "        \n",
    "    Returns:\n",
    "    -----\n",
    "    df_coltype: dict\n",
    "        A python dictionary containing the column name and the types od the data in the column.\n",
    "    '''\n",
    "    df_coltypes = {}\n",
    "    df_cols = df.columns \n",
    "\n",
    "    for col in df_cols:\n",
    "        coltypes= set(df[col].apply(lambda x: type(x)))\n",
    "\n",
    "        if filter and len(coltypes) < 2:\n",
    "            continue\n",
    "        df_coltypes[col] = coltypes\n",
    "\n",
    "    return df_coltypes"
   ]
  },
  {
   "cell_type": "code",
   "execution_count": 9,
   "id": "79274f55-e0a1-474d-9c68-4a8c6e6bd429",
   "metadata": {},
   "outputs": [
    {
     "data": {
      "text/plain": [
       "{'reuniao_num': {str},\n",
       " 'reuniao_data': {str},\n",
       " 'reuniao_vies': {float, str},\n",
       " 'meta_selic_pctaa': {str},\n",
       " 'tban_pctam': {float, str},\n",
       " 'taxa_selic_pct': {float, str},\n",
       " 'taxa_selic_pctaa': {float, str},\n",
       " 'vigencia_inicio': {str},\n",
       " 'vigencia_fim': {str}}"
      ]
     },
     "execution_count": 9,
     "metadata": {},
     "output_type": "execute_result"
    }
   ],
   "source": [
    "dfcols_type(selic_df)"
   ]
  },
  {
   "cell_type": "markdown",
   "id": "000f27e0-9915-4281-802c-de93958f70e2",
   "metadata": {},
   "source": [
    "What we get from the output of the above function is that some column are mixed-typed and the those that aren't are correct typed."
   ]
  },
  {
   "cell_type": "markdown",
   "id": "953466f2-aef5-411c-8293-6a06917cc22a",
   "metadata": {},
   "source": [
    "So we need to set the correct types for each column with mixed types. \n",
    "\n",
    "<table>\n",
    "    <thead>\n",
    "        <tr>\n",
    "            <th>Variável</th>\n",
    "            <th>Tipo</th>\n",
    "        </tr>\n",
    "    </thead>\n",
    "    <tbody>\n",
    "        <tr>\n",
    "            <th>reuniao_num</th>\n",
    "            <td>Keep as string.</td>\n",
    "        </tr>\n",
    "        <tr>\n",
    "            <th>reuniao_data</th>\n",
    "            <td>Cast as datetime.</td>\n",
    "        </tr>\n",
    "        <tr>\n",
    "            <th>reuniao_vies</th>\n",
    "            <td>Keep as string. </td>\n",
    "        </tr>\n",
    "        <tr>\n",
    "            <th>meta_selic_pctaa</th>\n",
    "            <td>Cast as float. </td>\n",
    "        </tr>\n",
    "        <tr>\n",
    "        <th>tban_pctam</th>\n",
    "            <td>Cast as float. </td>\n",
    "        </tr>\n",
    "        <tr>\n",
    "            <th>taxa_selic_porcento</th>\n",
    "            <td>Cast as float. </td>\n",
    "        </tr>\n",
    "        <tr>\n",
    "            <th>taxa_selic_pctaa</th>\n",
    "            <td>Cast as float. </td>\n",
    "        </tr>\n",
    "        <tr>\n",
    "            <th>vigencia_inicio</th>\n",
    "            <td>Cast as datetime. </td>\n",
    "        </tr>\n",
    "        <tr>\n",
    "            <th>vigencia_fim</th>\n",
    "            <td>Cast as datetime. </td>\n",
    "        </tr>\n",
    "    </tbody>\n",
    "</table>\n"
   ]
  },
  {
   "cell_type": "markdown",
   "id": "d4fc61a8-eaa4-43ff-9b49-1454d315c36e",
   "metadata": {},
   "source": [
    "Furthermore, we will add today's date in th first row of the column vigencia_fim. We also need to change the decimal sign, which is a comma in Brazil to a dot."
   ]
  },
  {
   "cell_type": "code",
   "execution_count": 10,
   "id": "91a991d2-962f-4b01-9feb-63c0fc9e7d6b",
   "metadata": {},
   "outputs": [
    {
     "data": {
      "text/html": [
       "<div>\n",
       "<style scoped>\n",
       "    .dataframe tbody tr th:only-of-type {\n",
       "        vertical-align: middle;\n",
       "    }\n",
       "\n",
       "    .dataframe tbody tr th {\n",
       "        vertical-align: top;\n",
       "    }\n",
       "\n",
       "    .dataframe thead th {\n",
       "        text-align: right;\n",
       "    }\n",
       "</style>\n",
       "<table border=\"1\" class=\"dataframe\">\n",
       "  <thead>\n",
       "    <tr style=\"text-align: right;\">\n",
       "      <th></th>\n",
       "      <th>reuniao_num</th>\n",
       "      <th>reuniao_data</th>\n",
       "      <th>reuniao_vies</th>\n",
       "      <th>meta_selic_pctaa</th>\n",
       "      <th>tban_pctam</th>\n",
       "      <th>taxa_selic_pct</th>\n",
       "      <th>taxa_selic_pctaa</th>\n",
       "      <th>vigencia_inicio</th>\n",
       "      <th>vigencia_fim</th>\n",
       "    </tr>\n",
       "  </thead>\n",
       "  <tbody>\n",
       "    <tr>\n",
       "      <th>0</th>\n",
       "      <td>269ª</td>\n",
       "      <td>2025-03-19</td>\n",
       "      <td>NaN</td>\n",
       "      <td>14.25</td>\n",
       "      <td>NaN</td>\n",
       "      <td>NaN</td>\n",
       "      <td>NaN</td>\n",
       "      <td>2025-03-20</td>\n",
       "      <td>2025-05-01</td>\n",
       "    </tr>\n",
       "    <tr>\n",
       "      <th>1</th>\n",
       "      <td>268ª</td>\n",
       "      <td>2025-01-29</td>\n",
       "      <td>NaN</td>\n",
       "      <td>13.25</td>\n",
       "      <td>NaN</td>\n",
       "      <td>1.63</td>\n",
       "      <td>13.15</td>\n",
       "      <td>2025-01-30</td>\n",
       "      <td>2025-03-19</td>\n",
       "    </tr>\n",
       "    <tr>\n",
       "      <th>2</th>\n",
       "      <td>267ª</td>\n",
       "      <td>2024-12-11</td>\n",
       "      <td>NaN</td>\n",
       "      <td>12.25</td>\n",
       "      <td>NaN</td>\n",
       "      <td>1.51</td>\n",
       "      <td>12.15</td>\n",
       "      <td>2024-12-12</td>\n",
       "      <td>2025-01-29</td>\n",
       "    </tr>\n",
       "    <tr>\n",
       "      <th>3</th>\n",
       "      <td>266ª</td>\n",
       "      <td>2024-11-06</td>\n",
       "      <td>NaN</td>\n",
       "      <td>11.25</td>\n",
       "      <td>NaN</td>\n",
       "      <td>0.97</td>\n",
       "      <td>11.15</td>\n",
       "      <td>2024-11-07</td>\n",
       "      <td>2024-12-11</td>\n",
       "    </tr>\n",
       "    <tr>\n",
       "      <th>4</th>\n",
       "      <td>265ª</td>\n",
       "      <td>2024-09-18</td>\n",
       "      <td>NaN</td>\n",
       "      <td>10.75</td>\n",
       "      <td>NaN</td>\n",
       "      <td>1.42</td>\n",
       "      <td>10.65</td>\n",
       "      <td>2024-09-19</td>\n",
       "      <td>2024-11-06</td>\n",
       "    </tr>\n",
       "  </tbody>\n",
       "</table>\n",
       "</div>"
      ],
      "text/plain": [
       "  reuniao_num reuniao_data reuniao_vies  meta_selic_pctaa  tban_pctam   \n",
       "0        269ª   2025-03-19          NaN             14.25         NaN  \\\n",
       "1        268ª   2025-01-29          NaN             13.25         NaN   \n",
       "2        267ª   2024-12-11          NaN             12.25         NaN   \n",
       "3        266ª   2024-11-06          NaN             11.25         NaN   \n",
       "4        265ª   2024-09-18          NaN             10.75         NaN   \n",
       "\n",
       "   taxa_selic_pct  taxa_selic_pctaa vigencia_inicio vigencia_fim  \n",
       "0             NaN               NaN      2025-03-20   2025-05-01  \n",
       "1            1.63             13.15      2025-01-30   2025-03-19  \n",
       "2            1.51             12.15      2024-12-12   2025-01-29  \n",
       "3            0.97             11.15      2024-11-07   2024-12-11  \n",
       "4            1.42             10.65      2024-09-19   2024-11-06  "
      ]
     },
     "execution_count": 10,
     "metadata": {},
     "output_type": "execute_result"
    }
   ],
   "source": [
    "num_cols = len(selic_cols)\n",
    "\n",
    "selic_df.at[0, 'vigencia_fim'] = pd.Timestamp.today().strftime('%d/%m/%Y')\n",
    "\n",
    "for ii in range(1, num_cols):\n",
    "    if ii in range(3, 7):\n",
    "        selic_df[selic_cols[ii]] = selic_df[selic_cols[ii]].str.replace(',', '.') \n",
    "        selic_df[selic_cols[ii]] = pd.to_numeric(selic_df[selic_cols[ii]])\n",
    "    elif ii == 2:\n",
    "        continue\n",
    "    else:\n",
    "        selic_df[selic_cols[ii]] = pd.to_datetime(selic_df[selic_cols[ii]], format=\"%d/%m/%Y\")\n",
    "selic_df.head()"
   ]
  },
  {
   "cell_type": "code",
   "execution_count": 11,
   "id": "9b9db6c5-77c1-4958-9fb7-d0b392798d5a",
   "metadata": {},
   "outputs": [
    {
     "name": "stdout",
     "output_type": "stream",
     "text": [
      "<class 'pandas.core.frame.DataFrame'>\n",
      "RangeIndex: 277 entries, 0 to 276\n",
      "Data columns (total 9 columns):\n",
      " #   Column            Non-Null Count  Dtype         \n",
      "---  ------            --------------  -----         \n",
      " 0   reuniao_num       277 non-null    object        \n",
      " 1   reuniao_data      277 non-null    datetime64[ns]\n",
      " 2   reuniao_vies      187 non-null    object        \n",
      " 3   meta_selic_pctaa  277 non-null    float64       \n",
      " 4   tban_pctam        29 non-null     float64       \n",
      " 5   taxa_selic_pct    276 non-null    float64       \n",
      " 6   taxa_selic_pctaa  276 non-null    float64       \n",
      " 7   vigencia_inicio   277 non-null    datetime64[ns]\n",
      " 8   vigencia_fim      277 non-null    datetime64[ns]\n",
      "dtypes: datetime64[ns](3), float64(4), object(2)\n",
      "memory usage: 19.6+ KB\n"
     ]
    }
   ],
   "source": [
    "selic_df.info()"
   ]
  },
  {
   "cell_type": "markdown",
   "id": "57c5c1a2-64e3-4562-8d1f-a854c1f6b030",
   "metadata": {},
   "source": [
    "Now we can recheck the missing values by each column"
   ]
  },
  {
   "cell_type": "code",
   "execution_count": 12,
   "id": "09a26d79-fd06-4786-bb2b-5258fd2e15b4",
   "metadata": {},
   "outputs": [
    {
     "data": {
      "text/plain": [
       "reuniao_vies         90\n",
       "tban_pctam          248\n",
       "taxa_selic_pct        1\n",
       "taxa_selic_pctaa      1\n",
       "dtype: int64"
      ]
     },
     "execution_count": 12,
     "metadata": {},
     "output_type": "execute_result"
    }
   ],
   "source": [
    "selic_df.isnull().sum()[selic_df.isnull().sum() > 0]"
   ]
  },
  {
   "cell_type": "markdown",
   "id": "af35daf8-63ac-4d66-abad-4183bb2cad67",
   "metadata": {},
   "source": [
    "The column reuniao_vies has a lot of missing data while it should be a str typed column. So we will replace the NaN with the string 'n/a' to indicate the data is missing."
   ]
  },
  {
   "cell_type": "code",
   "execution_count": 13,
   "id": "b3a0efe8-0656-4175-9a3c-13152142b14c",
   "metadata": {},
   "outputs": [],
   "source": [
    "selic_df['reuniao_vies'] = selic_df['reuniao_vies'].replace(np.nan, 'n/a')"
   ]
  },
  {
   "cell_type": "markdown",
   "id": "bf7b92d3-cd8d-463c-938d-bcc824e3db93",
   "metadata": {},
   "source": [
    "The missing data of the columns taxa_selic_pct and taxa_selic_pctaa corresponds to the first row of the dataset. This occurs  because the target (meta) is stablished in the first place for the inter Copom reunion period. Later, after the reunion, the selic rate is computed and announced"
   ]
  },
  {
   "cell_type": "markdown",
   "id": "a8e35697-5a82-4fe2-9c2b-8f140e779a38",
   "metadata": {},
   "source": [
    "The missing data in the colum tban can be explained because the TBAN's information on <a href='https://www.bcb.gov.br/en/monetarypolicy/interestrates'>Brazilian Central Bank's website</a>, which states it was discontinued on March 4, 1994.      "
   ]
  },
  {
   "cell_type": "code",
   "execution_count": 14,
   "id": "27f456e3-e964-43e0-91b9-f842816d9e95",
   "metadata": {},
   "outputs": [
    {
     "data": {
      "text/html": [
       "<div>\n",
       "<style scoped>\n",
       "    .dataframe tbody tr th:only-of-type {\n",
       "        vertical-align: middle;\n",
       "    }\n",
       "\n",
       "    .dataframe tbody tr th {\n",
       "        vertical-align: top;\n",
       "    }\n",
       "\n",
       "    .dataframe thead th {\n",
       "        text-align: right;\n",
       "    }\n",
       "</style>\n",
       "<table border=\"1\" class=\"dataframe\">\n",
       "  <thead>\n",
       "    <tr style=\"text-align: right;\">\n",
       "      <th></th>\n",
       "      <th>reuniao_data</th>\n",
       "      <th>tban_pctam</th>\n",
       "    </tr>\n",
       "  </thead>\n",
       "  <tbody>\n",
       "    <tr>\n",
       "      <th>240</th>\n",
       "      <td>1999-04-28</td>\n",
       "      <td>NaN</td>\n",
       "    </tr>\n",
       "    <tr>\n",
       "      <th>241</th>\n",
       "      <td>1999-04-14</td>\n",
       "      <td>NaN</td>\n",
       "    </tr>\n",
       "    <tr>\n",
       "      <th>242</th>\n",
       "      <td>1999-04-05</td>\n",
       "      <td>NaN</td>\n",
       "    </tr>\n",
       "    <tr>\n",
       "      <th>243</th>\n",
       "      <td>1999-03-25</td>\n",
       "      <td>NaN</td>\n",
       "    </tr>\n",
       "    <tr>\n",
       "      <th>244</th>\n",
       "      <td>1999-03-04</td>\n",
       "      <td>NaN</td>\n",
       "    </tr>\n",
       "    <tr>\n",
       "      <th>245</th>\n",
       "      <td>1999-01-18</td>\n",
       "      <td>41.0</td>\n",
       "    </tr>\n",
       "  </tbody>\n",
       "</table>\n",
       "</div>"
      ],
      "text/plain": [
       "    reuniao_data  tban_pctam\n",
       "240   1999-04-28         NaN\n",
       "241   1999-04-14         NaN\n",
       "242   1999-04-05         NaN\n",
       "243   1999-03-25         NaN\n",
       "244   1999-03-04         NaN\n",
       "245   1999-01-18        41.0"
      ]
     },
     "execution_count": 14,
     "metadata": {},
     "output_type": "execute_result"
    }
   ],
   "source": [
    "selic_df.loc[(selic_df['reuniao_data'] > '1999-01') & (selic_df['reuniao_data'] < '1999-05'), ['reuniao_data', 'tban_pctam']]"
   ]
  },
  {
   "cell_type": "markdown",
   "id": "5c1e8bad-1620-4ae3-bada-bcbfe2144a76",
   "metadata": {},
   "source": [
    "As of 4th March, we don't have more TBAN.\n",
    "We will now check reuniao_vies"
   ]
  },
  {
   "cell_type": "code",
   "execution_count": 15,
   "id": "56333c9e-e7cd-4d54-b420-02b8aa32e9f9",
   "metadata": {},
   "outputs": [
    {
     "data": {
      "text/html": [
       "<div>\n",
       "<style scoped>\n",
       "    .dataframe tbody tr th:only-of-type {\n",
       "        vertical-align: middle;\n",
       "    }\n",
       "\n",
       "    .dataframe tbody tr th {\n",
       "        vertical-align: top;\n",
       "    }\n",
       "\n",
       "    .dataframe thead th {\n",
       "        text-align: right;\n",
       "    }\n",
       "</style>\n",
       "<table border=\"1\" class=\"dataframe\">\n",
       "  <thead>\n",
       "    <tr style=\"text-align: right;\">\n",
       "      <th></th>\n",
       "      <th>reuniao_num</th>\n",
       "      <th>reuniao_data</th>\n",
       "      <th>reuniao_vies</th>\n",
       "      <th>meta_selic_pctaa</th>\n",
       "      <th>tban_pctam</th>\n",
       "      <th>taxa_selic_pct</th>\n",
       "      <th>taxa_selic_pctaa</th>\n",
       "      <th>vigencia_inicio</th>\n",
       "      <th>vigencia_fim</th>\n",
       "    </tr>\n",
       "  </thead>\n",
       "  <tbody>\n",
       "    <tr>\n",
       "      <th>0</th>\n",
       "      <td>269ª</td>\n",
       "      <td>2025-03-19</td>\n",
       "      <td>n/a</td>\n",
       "      <td>14.25</td>\n",
       "      <td>NaN</td>\n",
       "      <td>NaN</td>\n",
       "      <td>NaN</td>\n",
       "      <td>2025-03-20</td>\n",
       "      <td>2025-05-01</td>\n",
       "    </tr>\n",
       "    <tr>\n",
       "      <th>1</th>\n",
       "      <td>268ª</td>\n",
       "      <td>2025-01-29</td>\n",
       "      <td>n/a</td>\n",
       "      <td>13.25</td>\n",
       "      <td>NaN</td>\n",
       "      <td>1.63</td>\n",
       "      <td>13.15</td>\n",
       "      <td>2025-01-30</td>\n",
       "      <td>2025-03-19</td>\n",
       "    </tr>\n",
       "    <tr>\n",
       "      <th>2</th>\n",
       "      <td>267ª</td>\n",
       "      <td>2024-12-11</td>\n",
       "      <td>n/a</td>\n",
       "      <td>12.25</td>\n",
       "      <td>NaN</td>\n",
       "      <td>1.51</td>\n",
       "      <td>12.15</td>\n",
       "      <td>2024-12-12</td>\n",
       "      <td>2025-01-29</td>\n",
       "    </tr>\n",
       "    <tr>\n",
       "      <th>3</th>\n",
       "      <td>266ª</td>\n",
       "      <td>2024-11-06</td>\n",
       "      <td>n/a</td>\n",
       "      <td>11.25</td>\n",
       "      <td>NaN</td>\n",
       "      <td>0.97</td>\n",
       "      <td>11.15</td>\n",
       "      <td>2024-11-07</td>\n",
       "      <td>2024-12-11</td>\n",
       "    </tr>\n",
       "    <tr>\n",
       "      <th>4</th>\n",
       "      <td>265ª</td>\n",
       "      <td>2024-09-18</td>\n",
       "      <td>n/a</td>\n",
       "      <td>10.75</td>\n",
       "      <td>NaN</td>\n",
       "      <td>1.42</td>\n",
       "      <td>10.65</td>\n",
       "      <td>2024-09-19</td>\n",
       "      <td>2024-11-06</td>\n",
       "    </tr>\n",
       "    <tr>\n",
       "      <th>...</th>\n",
       "      <td>...</td>\n",
       "      <td>...</td>\n",
       "      <td>...</td>\n",
       "      <td>...</td>\n",
       "      <td>...</td>\n",
       "      <td>...</td>\n",
       "      <td>...</td>\n",
       "      <td>...</td>\n",
       "      <td>...</td>\n",
       "    </tr>\n",
       "    <tr>\n",
       "      <th>272</th>\n",
       "      <td>5ª</td>\n",
       "      <td>1996-10-23</td>\n",
       "      <td>n/a</td>\n",
       "      <td>1.78</td>\n",
       "      <td>1.90</td>\n",
       "      <td>1.80</td>\n",
       "      <td>25.27</td>\n",
       "      <td>1996-11-01</td>\n",
       "      <td>1996-11-30</td>\n",
       "    </tr>\n",
       "    <tr>\n",
       "      <th>273</th>\n",
       "      <td>4ª</td>\n",
       "      <td>1996-09-23</td>\n",
       "      <td>n/a</td>\n",
       "      <td>1.82</td>\n",
       "      <td>1.93</td>\n",
       "      <td>1.86</td>\n",
       "      <td>23.48</td>\n",
       "      <td>1996-10-01</td>\n",
       "      <td>1996-10-31</td>\n",
       "    </tr>\n",
       "    <tr>\n",
       "      <th>274</th>\n",
       "      <td>3ª</td>\n",
       "      <td>1996-08-21</td>\n",
       "      <td>n/a</td>\n",
       "      <td>1.88</td>\n",
       "      <td>NaN</td>\n",
       "      <td>1.90</td>\n",
       "      <td>25.40</td>\n",
       "      <td>1996-09-01</td>\n",
       "      <td>1996-09-30</td>\n",
       "    </tr>\n",
       "    <tr>\n",
       "      <th>275</th>\n",
       "      <td>2ª</td>\n",
       "      <td>1996-07-30</td>\n",
       "      <td>n/a</td>\n",
       "      <td>1.90</td>\n",
       "      <td>NaN</td>\n",
       "      <td>1.97</td>\n",
       "      <td>25.01</td>\n",
       "      <td>1996-08-01</td>\n",
       "      <td>1996-08-31</td>\n",
       "    </tr>\n",
       "    <tr>\n",
       "      <th>276</th>\n",
       "      <td>1ª</td>\n",
       "      <td>1996-06-26</td>\n",
       "      <td>n/a</td>\n",
       "      <td>1.90</td>\n",
       "      <td>NaN</td>\n",
       "      <td>1.93</td>\n",
       "      <td>23.28</td>\n",
       "      <td>1996-07-01</td>\n",
       "      <td>1996-07-31</td>\n",
       "    </tr>\n",
       "  </tbody>\n",
       "</table>\n",
       "<p>90 rows × 9 columns</p>\n",
       "</div>"
      ],
      "text/plain": [
       "    reuniao_num reuniao_data reuniao_vies  meta_selic_pctaa  tban_pctam   \n",
       "0          269ª   2025-03-19          n/a             14.25         NaN  \\\n",
       "1          268ª   2025-01-29          n/a             13.25         NaN   \n",
       "2          267ª   2024-12-11          n/a             12.25         NaN   \n",
       "3          266ª   2024-11-06          n/a             11.25         NaN   \n",
       "4          265ª   2024-09-18          n/a             10.75         NaN   \n",
       "..          ...          ...          ...               ...         ...   \n",
       "272          5ª   1996-10-23          n/a              1.78        1.90   \n",
       "273          4ª   1996-09-23          n/a              1.82        1.93   \n",
       "274          3ª   1996-08-21          n/a              1.88         NaN   \n",
       "275          2ª   1996-07-30          n/a              1.90         NaN   \n",
       "276          1ª   1996-06-26          n/a              1.90         NaN   \n",
       "\n",
       "     taxa_selic_pct  taxa_selic_pctaa vigencia_inicio vigencia_fim  \n",
       "0               NaN               NaN      2025-03-20   2025-05-01  \n",
       "1              1.63             13.15      2025-01-30   2025-03-19  \n",
       "2              1.51             12.15      2024-12-12   2025-01-29  \n",
       "3              0.97             11.15      2024-11-07   2024-12-11  \n",
       "4              1.42             10.65      2024-09-19   2024-11-06  \n",
       "..              ...               ...             ...          ...  \n",
       "272            1.80             25.27      1996-11-01   1996-11-30  \n",
       "273            1.86             23.48      1996-10-01   1996-10-31  \n",
       "274            1.90             25.40      1996-09-01   1996-09-30  \n",
       "275            1.97             25.01      1996-08-01   1996-08-31  \n",
       "276            1.93             23.28      1996-07-01   1996-07-31  \n",
       "\n",
       "[90 rows x 9 columns]"
      ]
     },
     "execution_count": 15,
     "metadata": {},
     "output_type": "execute_result"
    }
   ],
   "source": [
    "selic_df[selic_df['reuniao_vies'] == 'n/a']"
   ]
  },
  {
   "cell_type": "markdown",
   "id": "1c56f956-76e5-4f10-b9c1-4a4546e868e4",
   "metadata": {},
   "source": [
    "Quickly examining the data, the bias instrument appears to have a limited use."
   ]
  },
  {
   "cell_type": "code",
   "execution_count": 16,
   "id": "3ae60ed4-8475-4dae-bb3f-2dac157ead19",
   "metadata": {},
   "outputs": [
    {
     "data": {
      "text/html": [
       "<div>\n",
       "<style scoped>\n",
       "    .dataframe tbody tr th:only-of-type {\n",
       "        vertical-align: middle;\n",
       "    }\n",
       "\n",
       "    .dataframe tbody tr th {\n",
       "        vertical-align: top;\n",
       "    }\n",
       "\n",
       "    .dataframe thead th {\n",
       "        text-align: right;\n",
       "    }\n",
       "</style>\n",
       "<table border=\"1\" class=\"dataframe\">\n",
       "  <thead>\n",
       "    <tr style=\"text-align: right;\">\n",
       "      <th></th>\n",
       "      <th>count</th>\n",
       "    </tr>\n",
       "    <tr>\n",
       "      <th>reuniao_vies</th>\n",
       "      <th></th>\n",
       "    </tr>\n",
       "  </thead>\n",
       "  <tbody>\n",
       "    <tr>\n",
       "      <th>sem viés</th>\n",
       "      <td>168</td>\n",
       "    </tr>\n",
       "    <tr>\n",
       "      <th>n/a</th>\n",
       "      <td>90</td>\n",
       "    </tr>\n",
       "    <tr>\n",
       "      <th>baixa</th>\n",
       "      <td>18</td>\n",
       "    </tr>\n",
       "    <tr>\n",
       "      <th>alta</th>\n",
       "      <td>1</td>\n",
       "    </tr>\n",
       "  </tbody>\n",
       "</table>\n",
       "</div>"
      ],
      "text/plain": [
       "              count\n",
       "reuniao_vies       \n",
       "sem viés        168\n",
       "n/a              90\n",
       "baixa            18\n",
       "alta              1"
      ]
     },
     "execution_count": 16,
     "metadata": {},
     "output_type": "execute_result"
    }
   ],
   "source": [
    "selic_df['reuniao_vies'].value_counts().to_frame()"
   ]
  },
  {
   "cell_type": "code",
   "execution_count": 17,
   "id": "e5b44b43-1142-4a56-a216-836f9a0abd5d",
   "metadata": {},
   "outputs": [
    {
     "data": {
      "text/plain": [
       "(277, 9)"
      ]
     },
     "execution_count": 17,
     "metadata": {},
     "output_type": "execute_result"
    }
   ],
   "source": [
    "selic_df.shape"
   ]
  },
  {
   "cell_type": "markdown",
   "id": "2df13dc5-388e-4816-9be5-5126a7de4105",
   "metadata": {},
   "source": [
    "Only 18 lines in the entire datase have reuniao_vies as value: baixa, which means the interest rate will be lowered at a later date."
   ]
  },
  {
   "cell_type": "code",
   "execution_count": 18,
   "id": "45408d62-b4a5-4c4b-9081-fc3d1d1a1d43",
   "metadata": {},
   "outputs": [
    {
     "data": {
      "text/html": [
       "<div>\n",
       "<style scoped>\n",
       "    .dataframe tbody tr th:only-of-type {\n",
       "        vertical-align: middle;\n",
       "    }\n",
       "\n",
       "    .dataframe tbody tr th {\n",
       "        vertical-align: top;\n",
       "    }\n",
       "\n",
       "    .dataframe thead th {\n",
       "        text-align: right;\n",
       "    }\n",
       "</style>\n",
       "<table border=\"1\" class=\"dataframe\">\n",
       "  <thead>\n",
       "    <tr style=\"text-align: right;\">\n",
       "      <th></th>\n",
       "      <th>reuniao_num</th>\n",
       "      <th>reuniao_data</th>\n",
       "      <th>reuniao_vies</th>\n",
       "      <th>meta_selic_pctaa</th>\n",
       "      <th>vigencia_inicio</th>\n",
       "    </tr>\n",
       "  </thead>\n",
       "  <tbody>\n",
       "    <tr>\n",
       "      <th>187</th>\n",
       "      <td>82ª</td>\n",
       "      <td>2003-03-19</td>\n",
       "      <td>alta</td>\n",
       "      <td>26.50</td>\n",
       "      <td>2003-03-20</td>\n",
       "    </tr>\n",
       "    <tr>\n",
       "      <th>195</th>\n",
       "      <td>74ª</td>\n",
       "      <td>2002-08-21</td>\n",
       "      <td>baixa</td>\n",
       "      <td>18.00</td>\n",
       "      <td>2002-08-22</td>\n",
       "    </tr>\n",
       "    <tr>\n",
       "      <th>197</th>\n",
       "      <td>72ª</td>\n",
       "      <td>2002-06-19</td>\n",
       "      <td>baixa</td>\n",
       "      <td>18.50</td>\n",
       "      <td>2002-06-20</td>\n",
       "    </tr>\n",
       "    <tr>\n",
       "      <th>209</th>\n",
       "      <td>60ª</td>\n",
       "      <td>2001-06-20</td>\n",
       "      <td>baixa</td>\n",
       "      <td>18.25</td>\n",
       "      <td>2001-06-21</td>\n",
       "    </tr>\n",
       "    <tr>\n",
       "      <th>221</th>\n",
       "      <td>Pres. (9)</td>\n",
       "      <td>2000-07-07</td>\n",
       "      <td>baixa</td>\n",
       "      <td>17.00</td>\n",
       "      <td>2000-07-10</td>\n",
       "    </tr>\n",
       "    <tr>\n",
       "      <th>222</th>\n",
       "      <td>48ª</td>\n",
       "      <td>2000-06-20</td>\n",
       "      <td>baixa</td>\n",
       "      <td>17.50</td>\n",
       "      <td>2000-06-21</td>\n",
       "    </tr>\n",
       "    <tr>\n",
       "      <th>225</th>\n",
       "      <td>Pres. (9)</td>\n",
       "      <td>2000-03-28</td>\n",
       "      <td>baixa</td>\n",
       "      <td>18.50</td>\n",
       "      <td>2000-03-29</td>\n",
       "    </tr>\n",
       "    <tr>\n",
       "      <th>226</th>\n",
       "      <td>45ª</td>\n",
       "      <td>2000-03-22</td>\n",
       "      <td>baixa</td>\n",
       "      <td>19.00</td>\n",
       "      <td>2000-03-23</td>\n",
       "    </tr>\n",
       "    <tr>\n",
       "      <th>231</th>\n",
       "      <td>40ª</td>\n",
       "      <td>1999-10-06</td>\n",
       "      <td>baixa</td>\n",
       "      <td>19.00</td>\n",
       "      <td>1999-10-07</td>\n",
       "    </tr>\n",
       "    <tr>\n",
       "      <th>235</th>\n",
       "      <td>36ª</td>\n",
       "      <td>1999-06-23</td>\n",
       "      <td>baixa</td>\n",
       "      <td>21.00</td>\n",
       "      <td>1999-06-24</td>\n",
       "    </tr>\n",
       "    <tr>\n",
       "      <th>236</th>\n",
       "      <td>Pres. (9)</td>\n",
       "      <td>1999-06-08</td>\n",
       "      <td>baixa</td>\n",
       "      <td>22.00</td>\n",
       "      <td>1999-06-09</td>\n",
       "    </tr>\n",
       "    <tr>\n",
       "      <th>237</th>\n",
       "      <td>35ª</td>\n",
       "      <td>1999-05-19</td>\n",
       "      <td>baixa</td>\n",
       "      <td>23.50</td>\n",
       "      <td>1999-05-20</td>\n",
       "    </tr>\n",
       "    <tr>\n",
       "      <th>238</th>\n",
       "      <td>Pres. (9)</td>\n",
       "      <td>1999-05-12</td>\n",
       "      <td>baixa</td>\n",
       "      <td>27.00</td>\n",
       "      <td>1999-05-13</td>\n",
       "    </tr>\n",
       "    <tr>\n",
       "      <th>239</th>\n",
       "      <td>Pres. (9)</td>\n",
       "      <td>1999-05-07</td>\n",
       "      <td>baixa</td>\n",
       "      <td>29.50</td>\n",
       "      <td>1999-05-10</td>\n",
       "    </tr>\n",
       "    <tr>\n",
       "      <th>240</th>\n",
       "      <td>Pres. (9)</td>\n",
       "      <td>1999-04-28</td>\n",
       "      <td>baixa</td>\n",
       "      <td>32.00</td>\n",
       "      <td>1999-04-29</td>\n",
       "    </tr>\n",
       "    <tr>\n",
       "      <th>241</th>\n",
       "      <td>34ª</td>\n",
       "      <td>1999-04-14</td>\n",
       "      <td>baixa</td>\n",
       "      <td>34.00</td>\n",
       "      <td>1999-04-15</td>\n",
       "    </tr>\n",
       "    <tr>\n",
       "      <th>242</th>\n",
       "      <td>Pres. (9)</td>\n",
       "      <td>1999-04-05</td>\n",
       "      <td>baixa</td>\n",
       "      <td>39.50</td>\n",
       "      <td>1999-04-06</td>\n",
       "    </tr>\n",
       "    <tr>\n",
       "      <th>243</th>\n",
       "      <td>Pres. (9)</td>\n",
       "      <td>1999-03-25</td>\n",
       "      <td>baixa</td>\n",
       "      <td>42.00</td>\n",
       "      <td>1999-03-25</td>\n",
       "    </tr>\n",
       "    <tr>\n",
       "      <th>244</th>\n",
       "      <td>33ª</td>\n",
       "      <td>1999-03-04</td>\n",
       "      <td>baixa</td>\n",
       "      <td>45.00</td>\n",
       "      <td>1999-03-05</td>\n",
       "    </tr>\n",
       "  </tbody>\n",
       "</table>\n",
       "</div>"
      ],
      "text/plain": [
       "    reuniao_num reuniao_data reuniao_vies  meta_selic_pctaa vigencia_inicio\n",
       "187         82ª   2003-03-19         alta             26.50      2003-03-20\n",
       "195         74ª   2002-08-21        baixa             18.00      2002-08-22\n",
       "197         72ª   2002-06-19        baixa             18.50      2002-06-20\n",
       "209         60ª   2001-06-20        baixa             18.25      2001-06-21\n",
       "221   Pres. (9)   2000-07-07        baixa             17.00      2000-07-10\n",
       "222         48ª   2000-06-20        baixa             17.50      2000-06-21\n",
       "225   Pres. (9)   2000-03-28        baixa             18.50      2000-03-29\n",
       "226         45ª   2000-03-22        baixa             19.00      2000-03-23\n",
       "231         40ª   1999-10-06        baixa             19.00      1999-10-07\n",
       "235         36ª   1999-06-23        baixa             21.00      1999-06-24\n",
       "236   Pres. (9)   1999-06-08        baixa             22.00      1999-06-09\n",
       "237         35ª   1999-05-19        baixa             23.50      1999-05-20\n",
       "238   Pres. (9)   1999-05-12        baixa             27.00      1999-05-13\n",
       "239   Pres. (9)   1999-05-07        baixa             29.50      1999-05-10\n",
       "240   Pres. (9)   1999-04-28        baixa             32.00      1999-04-29\n",
       "241         34ª   1999-04-14        baixa             34.00      1999-04-15\n",
       "242   Pres. (9)   1999-04-05        baixa             39.50      1999-04-06\n",
       "243   Pres. (9)   1999-03-25        baixa             42.00      1999-03-25\n",
       "244         33ª   1999-03-04        baixa             45.00      1999-03-05"
      ]
     },
     "execution_count": 18,
     "metadata": {},
     "output_type": "execute_result"
    }
   ],
   "source": [
    "selic_df[[\n",
    "    'reuniao_num', \n",
    "    'reuniao_data', \n",
    "    'reuniao_vies', \n",
    "    'meta_selic_pctaa', \n",
    "    'vigencia_inicio'\n",
    "]][selic_df['reuniao_vies'].str.contains('baixa|alta')]"
   ]
  },
  {
   "cell_type": "markdown",
   "id": "f26d24c6-4e0e-4a88-8c17-0cd319819a91",
   "metadata": {},
   "source": [
    "Out of a total of 272 meetings that were held, only 19 had used the bias instrument. Of this 18 had a downward bias. Moreover, reuniao_num have a 'Pres. (9)' string, which might have an associated meaning."
   ]
  },
  {
   "cell_type": "code",
   "execution_count": 19,
   "id": "41ad5046-bb78-445c-9353-7629aeea79e2",
   "metadata": {},
   "outputs": [
    {
     "data": {
      "text/html": [
       "<div>\n",
       "<style scoped>\n",
       "    .dataframe tbody tr th:only-of-type {\n",
       "        vertical-align: middle;\n",
       "    }\n",
       "\n",
       "    .dataframe tbody tr th {\n",
       "        vertical-align: top;\n",
       "    }\n",
       "\n",
       "    .dataframe thead th {\n",
       "        text-align: right;\n",
       "    }\n",
       "</style>\n",
       "<table border=\"1\" class=\"dataframe\">\n",
       "  <thead>\n",
       "    <tr style=\"text-align: right;\">\n",
       "      <th></th>\n",
       "      <th>reuniao_data</th>\n",
       "      <th>reuniao_num</th>\n",
       "      <th>reuniao_vies</th>\n",
       "    </tr>\n",
       "  </thead>\n",
       "  <tbody>\n",
       "    <tr>\n",
       "      <th>221</th>\n",
       "      <td>2000-07-07</td>\n",
       "      <td>Pres. (9)</td>\n",
       "      <td>baixa</td>\n",
       "    </tr>\n",
       "    <tr>\n",
       "      <th>225</th>\n",
       "      <td>2000-03-28</td>\n",
       "      <td>Pres. (9)</td>\n",
       "      <td>baixa</td>\n",
       "    </tr>\n",
       "    <tr>\n",
       "      <th>236</th>\n",
       "      <td>1999-06-08</td>\n",
       "      <td>Pres. (9)</td>\n",
       "      <td>baixa</td>\n",
       "    </tr>\n",
       "    <tr>\n",
       "      <th>238</th>\n",
       "      <td>1999-05-12</td>\n",
       "      <td>Pres. (9)</td>\n",
       "      <td>baixa</td>\n",
       "    </tr>\n",
       "    <tr>\n",
       "      <th>239</th>\n",
       "      <td>1999-05-07</td>\n",
       "      <td>Pres. (9)</td>\n",
       "      <td>baixa</td>\n",
       "    </tr>\n",
       "    <tr>\n",
       "      <th>240</th>\n",
       "      <td>1999-04-28</td>\n",
       "      <td>Pres. (9)</td>\n",
       "      <td>baixa</td>\n",
       "    </tr>\n",
       "    <tr>\n",
       "      <th>242</th>\n",
       "      <td>1999-04-05</td>\n",
       "      <td>Pres. (9)</td>\n",
       "      <td>baixa</td>\n",
       "    </tr>\n",
       "    <tr>\n",
       "      <th>243</th>\n",
       "      <td>1999-03-25</td>\n",
       "      <td>Pres. (9)</td>\n",
       "      <td>baixa</td>\n",
       "    </tr>\n",
       "  </tbody>\n",
       "</table>\n",
       "</div>"
      ],
      "text/plain": [
       "    reuniao_data reuniao_num reuniao_vies\n",
       "221   2000-07-07   Pres. (9)        baixa\n",
       "225   2000-03-28   Pres. (9)        baixa\n",
       "236   1999-06-08   Pres. (9)        baixa\n",
       "238   1999-05-12   Pres. (9)        baixa\n",
       "239   1999-05-07   Pres. (9)        baixa\n",
       "240   1999-04-28   Pres. (9)        baixa\n",
       "242   1999-04-05   Pres. (9)        baixa\n",
       "243   1999-03-25   Pres. (9)        baixa"
      ]
     },
     "execution_count": 19,
     "metadata": {},
     "output_type": "execute_result"
    }
   ],
   "source": [
    "pres_ocorr = selic_df[['reuniao_data', 'reuniao_num', 'reuniao_vies']][selic_df['reuniao_num'].str.contains('Pres.')]\n",
    "pres_ocorr"
   ]
  },
  {
   "cell_type": "markdown",
   "id": "a4248173-3b27-450d-ab98-bde9f0e4bcbf",
   "metadata": {},
   "source": [
    "We can notice that 'Pres.(9)' only occurred 8 times and all the occurrences happened with a downward bias (baixa).\n",
    "\n",
    "Refering back to the columns descriptions, we may recall that once the bias is stablished in a meeting, a change can be made at any time. Note that between the 33rd and the 34th meeting, there were 2 changes in the target, and the string Pres.(9) allings with this by showing that there wasn't a new meeting but rather new decision of the Central Bank to change the selic. Because of this, I am going to create a new column called data_comunicao_decisao_vies (bias_decision_communication_date) to accomodate all dates when no meeting was held. "
   ]
  },
  {
   "cell_type": "code",
   "execution_count": 20,
   "id": "07845afa-bf6d-474b-9ea0-b22c5a8a2639",
   "metadata": {},
   "outputs": [
    {
     "data": {
      "text/plain": [
       "0     NaT\n",
       "1     NaT\n",
       "2     NaT\n",
       "3     NaT\n",
       "4     NaT\n",
       "       ..\n",
       "272   NaT\n",
       "273   NaT\n",
       "274   NaT\n",
       "275   NaT\n",
       "276   NaT\n",
       "Name: data_comunicao_decisao_vies, Length: 277, dtype: datetime64[ns]"
      ]
     },
     "execution_count": 20,
     "metadata": {},
     "output_type": "execute_result"
    }
   ],
   "source": [
    "selic_df['data_comunicao_decisao_vies'] = selic_df.loc[pres_ocorr.index, 'reuniao_data'].reindex(np.arange(0, len(selic_df)), fill_value = pd.NaT)\n",
    "selic_df.loc[pres_ocorr.index, 'reuniao_data'] = pd.NaT\n",
    "selic_df['data_comunicao_decisao_vies']"
   ]
  },
  {
   "cell_type": "markdown",
   "id": "94df88fd-4a4e-48ad-bb5c-c65ecf73a25f",
   "metadata": {},
   "source": [
    "The last time the bias instrument was used, was in March 2003. Is it possible that there was no longer a need to stablish a bias? Aparently, up untill 2017 there wasn't, but in December 2017, the Copom decided to discontinue this instrument in its meetings. This is why we have the 'n/a' string."
   ]
  },
  {
   "cell_type": "code",
   "execution_count": 21,
   "id": "05700395-95de-4e93-b794-68bd7d893a97",
   "metadata": {},
   "outputs": [
    {
     "data": {
      "text/plain": [
       "Index([  0,   1,   2,   3,   4,   5,   6,   7,   8,   9,  10,  11,  12,  13,\n",
       "        14,  15,  16,  17,  18,  19,  20,  21,  22,  23,  24,  25,  26,  27,\n",
       "        28,  29,  30,  31,  32,  33,  34,  35,  36,  37,  38,  39,  40,  41,\n",
       "        42,  43,  44,  45,  46,  47,  48,  49,  50,  51,  52,  53,  54,  55,\n",
       "        56,  57, 245, 246, 247, 248, 249, 250, 251, 252, 253, 254, 255, 256,\n",
       "       257, 258, 259, 260, 261, 262, 263, 264, 265, 266, 267, 268, 269, 270,\n",
       "       271, 272, 273, 274, 275, 276],\n",
       "      dtype='int64')"
      ]
     },
     "execution_count": 21,
     "metadata": {},
     "output_type": "execute_result"
    }
   ],
   "source": [
    "selic_df[['reuniao_data', 'reuniao_num', 'reuniao_vies']][selic_df['reuniao_vies'] == 'n/a'].index"
   ]
  },
  {
   "cell_type": "markdown",
   "id": "29e6e84f-6fce-4c63-8ff9-01a3ac06fa35",
   "metadata": {},
   "source": [
    "Notice that we have a big gap in the above list of indices."
   ]
  },
  {
   "cell_type": "code",
   "execution_count": 22,
   "id": "709e0053-7816-4ea6-be5a-c34dcb7d7ec1",
   "metadata": {},
   "outputs": [
    {
     "data": {
      "text/html": [
       "<div>\n",
       "<style scoped>\n",
       "    .dataframe tbody tr th:only-of-type {\n",
       "        vertical-align: middle;\n",
       "    }\n",
       "\n",
       "    .dataframe tbody tr th {\n",
       "        vertical-align: top;\n",
       "    }\n",
       "\n",
       "    .dataframe thead th {\n",
       "        text-align: right;\n",
       "    }\n",
       "</style>\n",
       "<table border=\"1\" class=\"dataframe\">\n",
       "  <thead>\n",
       "    <tr style=\"text-align: right;\">\n",
       "      <th></th>\n",
       "      <th>reuniao_num</th>\n",
       "      <th>reuniao_vies</th>\n",
       "    </tr>\n",
       "  </thead>\n",
       "  <tbody>\n",
       "    <tr>\n",
       "      <th>53</th>\n",
       "      <td>216ª</td>\n",
       "      <td>n/a</td>\n",
       "    </tr>\n",
       "    <tr>\n",
       "      <th>54</th>\n",
       "      <td>215ª</td>\n",
       "      <td>n/a</td>\n",
       "    </tr>\n",
       "    <tr>\n",
       "      <th>240</th>\n",
       "      <td>Pres. (9)</td>\n",
       "      <td>baixa</td>\n",
       "    </tr>\n",
       "    <tr>\n",
       "      <th>241</th>\n",
       "      <td>34ª</td>\n",
       "      <td>baixa</td>\n",
       "    </tr>\n",
       "  </tbody>\n",
       "</table>\n",
       "</div>"
      ],
      "text/plain": [
       "    reuniao_num reuniao_vies\n",
       "53         216ª          n/a\n",
       "54         215ª          n/a\n",
       "240   Pres. (9)        baixa\n",
       "241         34ª        baixa"
      ]
     },
     "execution_count": 22,
     "metadata": {},
     "output_type": "execute_result"
    }
   ],
   "source": [
    "selic_df.loc[[53,54,240,241], :][['reuniao_num', 'reuniao_vies']]"
   ]
  },
  {
   "cell_type": "markdown",
   "id": "7792bff7-0e74-48ae-8294-19b12f76a0cb",
   "metadata": {},
   "source": [
    "In the above table we can clearly see when bias was discontinued."
   ]
  },
  {
   "cell_type": "markdown",
   "id": "dfac2e31-c1b0-47fc-a687-8de4d21dd83a",
   "metadata": {},
   "source": [
    "We can also extract more information from the reuniao_num column, because each row may contain the term 'ex', which indicates that the the meeting that have occurred was extraordinary."
   ]
  },
  {
   "cell_type": "code",
   "execution_count": 23,
   "id": "f176ee45-5001-4ffe-b94c-ca0098c90cfc",
   "metadata": {},
   "outputs": [
    {
     "data": {
      "text/html": [
       "<div>\n",
       "<style scoped>\n",
       "    .dataframe tbody tr th:only-of-type {\n",
       "        vertical-align: middle;\n",
       "    }\n",
       "\n",
       "    .dataframe tbody tr th {\n",
       "        vertical-align: top;\n",
       "    }\n",
       "\n",
       "    .dataframe thead th {\n",
       "        text-align: right;\n",
       "    }\n",
       "</style>\n",
       "<table border=\"1\" class=\"dataframe\">\n",
       "  <thead>\n",
       "    <tr style=\"text-align: right;\">\n",
       "      <th></th>\n",
       "      <th>reuniao_data</th>\n",
       "      <th>reuniao_num</th>\n",
       "    </tr>\n",
       "  </thead>\n",
       "  <tbody>\n",
       "    <tr>\n",
       "      <th>193</th>\n",
       "      <td>2002-10-14</td>\n",
       "      <td>76ª ex. (8)</td>\n",
       "    </tr>\n",
       "    <tr>\n",
       "      <th>249</th>\n",
       "      <td>1998-09-10</td>\n",
       "      <td>28ª ex. (8)</td>\n",
       "    </tr>\n",
       "    <tr>\n",
       "      <th>259</th>\n",
       "      <td>1997-10-30</td>\n",
       "      <td>18ª ex. (8)</td>\n",
       "    </tr>\n",
       "  </tbody>\n",
       "</table>\n",
       "</div>"
      ],
      "text/plain": [
       "    reuniao_data   reuniao_num\n",
       "193   2002-10-14   76ª ex. (8)\n",
       "249   1998-09-10   28ª ex. (8)\n",
       "259   1997-10-30   18ª ex. (8)"
      ]
     },
     "execution_count": 23,
     "metadata": {},
     "output_type": "execute_result"
    }
   ],
   "source": [
    "selic_df[['reuniao_data', 'reuniao_num']][selic_df['reuniao_num'].str.contains('ex')]"
   ]
  },
  {
   "cell_type": "markdown",
   "id": "ffb1300b-210c-49f1-99ae-3ecdfa566c83",
   "metadata": {},
   "source": [
    "The last extraordinary meeting was registered October 14th 2002. An important piece of information to add is that a extraordinary meeting happen when there is abrupt changes in the macroeconomic scenario. We may infer that either these types of change stopped happening, or it this type of meeting were no longer necessary."
   ]
  },
  {
   "cell_type": "markdown",
   "id": "e6f93ecc-1c9e-4969-ac44-41cd19526bf7",
   "metadata": {},
   "source": [
    "We may check if the dates in the datetime-type columns are correct, that is,  if they strictly decrease. We can do that by the difference of a given series and its shifted version."
   ]
  },
  {
   "cell_type": "code",
   "execution_count": 24,
   "id": "78567ef0-0d39-4923-bec1-05a999ca7c26",
   "metadata": {},
   "outputs": [
    {
     "data": {
      "text/html": [
       "<div>\n",
       "<style scoped>\n",
       "    .dataframe tbody tr th:only-of-type {\n",
       "        vertical-align: middle;\n",
       "    }\n",
       "\n",
       "    .dataframe tbody tr th {\n",
       "        vertical-align: top;\n",
       "    }\n",
       "\n",
       "    .dataframe thead th {\n",
       "        text-align: right;\n",
       "    }\n",
       "</style>\n",
       "<table border=\"1\" class=\"dataframe\">\n",
       "  <thead>\n",
       "    <tr style=\"text-align: right;\">\n",
       "      <th></th>\n",
       "      <th>not_strictly_decreasing?</th>\n",
       "    </tr>\n",
       "    <tr>\n",
       "      <th>column</th>\n",
       "      <th></th>\n",
       "    </tr>\n",
       "  </thead>\n",
       "  <tbody>\n",
       "    <tr>\n",
       "      <th>reuniao_data</th>\n",
       "      <td>False</td>\n",
       "    </tr>\n",
       "    <tr>\n",
       "      <th>vigencia_inicio</th>\n",
       "      <td>True</td>\n",
       "    </tr>\n",
       "    <tr>\n",
       "      <th>vigencia_fim</th>\n",
       "      <td>True</td>\n",
       "    </tr>\n",
       "  </tbody>\n",
       "</table>\n",
       "</div>"
      ],
      "text/plain": [
       "                 not_strictly_decreasing?\n",
       "column                                   \n",
       "reuniao_data                        False\n",
       "vigencia_inicio                      True\n",
       "vigencia_fim                         True"
      ]
     },
     "execution_count": 24,
     "metadata": {},
     "output_type": "execute_result"
    }
   ],
   "source": [
    "date_cols = ['reuniao_data', 'vigencia_inicio', 'vigencia_fim']\n",
    "date_check = []\n",
    "\n",
    "for col in date_cols:\n",
    "    date_check.append([col, ((selic_df[col] - selic_df[col].shift(1)) >= pd.Timedelta(0)).any()])\n",
    "\n",
    "pd.DataFrame(date_check, columns = ['column', 'not_strictly_decreasing?']).set_index('column')"
   ]
  },
  {
   "cell_type": "markdown",
   "id": "f56d8c3a-b780-40c4-8ea1-5db8db74cb03",
   "metadata": {},
   "source": [
    "From the results, we need to further assess the vigencia_inicio(start_date) and vigencia_fim (end_date) columns. They contain some dates that are in incorrect order."
   ]
  },
  {
   "cell_type": "code",
   "execution_count": 25,
   "id": "5d7a5f45-1a99-48e9-8e5a-b9131f2db10d",
   "metadata": {},
   "outputs": [
    {
     "data": {
      "text/plain": [
       "260   1997-11-01\n",
       "Name: vigencia_inicio, dtype: datetime64[ns]"
      ]
     },
     "execution_count": 25,
     "metadata": {},
     "output_type": "execute_result"
    }
   ],
   "source": [
    "date_issues = (selic_df['vigencia_inicio'] - selic_df['vigencia_inicio'].shift(1)) >= pd.Timedelta(0)\n",
    "idxs_issue = selic_df['vigencia_inicio'][date_issues]\n",
    "idxs_issue"
   ]
  },
  {
   "cell_type": "markdown",
   "id": "e7d876c4-6c6a-487f-832c-243a1e29c311",
   "metadata": {},
   "source": [
    "Looking at the column vigencia_inicio, we can see that the problem happen at the index 260."
   ]
  },
  {
   "cell_type": "markdown",
   "id": "76728ed4-76cf-4818-bfb2-71953b9b98f0",
   "metadata": {},
   "source": [
    "Let's look at this index neighbor."
   ]
  },
  {
   "cell_type": "code",
   "execution_count": 26,
   "id": "8517a05b-0d0b-4861-aec1-9a001b2d2286",
   "metadata": {},
   "outputs": [
    {
     "data": {
      "text/html": [
       "<div>\n",
       "<style scoped>\n",
       "    .dataframe tbody tr th:only-of-type {\n",
       "        vertical-align: middle;\n",
       "    }\n",
       "\n",
       "    .dataframe tbody tr th {\n",
       "        vertical-align: top;\n",
       "    }\n",
       "\n",
       "    .dataframe thead th {\n",
       "        text-align: right;\n",
       "    }\n",
       "</style>\n",
       "<table border=\"1\" class=\"dataframe\">\n",
       "  <thead>\n",
       "    <tr style=\"text-align: right;\">\n",
       "      <th></th>\n",
       "      <th>reuniao_num</th>\n",
       "      <th>vigencia_inicio</th>\n",
       "    </tr>\n",
       "  </thead>\n",
       "  <tbody>\n",
       "    <tr>\n",
       "      <th>258</th>\n",
       "      <td>19ª</td>\n",
       "      <td>1997-12-01</td>\n",
       "    </tr>\n",
       "    <tr>\n",
       "      <th>259</th>\n",
       "      <td>18ª ex. (8)</td>\n",
       "      <td>1997-10-31</td>\n",
       "    </tr>\n",
       "    <tr>\n",
       "      <th>260</th>\n",
       "      <td>17ª (7)</td>\n",
       "      <td>1997-11-01</td>\n",
       "    </tr>\n",
       "    <tr>\n",
       "      <th>261</th>\n",
       "      <td>16ª</td>\n",
       "      <td>1997-10-01</td>\n",
       "    </tr>\n",
       "    <tr>\n",
       "      <th>262</th>\n",
       "      <td>15ª</td>\n",
       "      <td>1997-09-01</td>\n",
       "    </tr>\n",
       "  </tbody>\n",
       "</table>\n",
       "</div>"
      ],
      "text/plain": [
       "      reuniao_num vigencia_inicio\n",
       "258           19ª      1997-12-01\n",
       "259   18ª ex. (8)      1997-10-31\n",
       "260       17ª (7)      1997-11-01\n",
       "261           16ª      1997-10-01\n",
       "262           15ª      1997-09-01"
      ]
     },
     "execution_count": 26,
     "metadata": {},
     "output_type": "execute_result"
    }
   ],
   "source": [
    "selic_df.loc[idxs_issue.index[0] - 2 : idxs_issue.index[0] + 2, :][['reuniao_num','vigencia_inicio']]"
   ]
  },
  {
   "cell_type": "markdown",
   "id": "9be74e00-50ed-4771-a0a7-1a9c62fbc44d",
   "metadata": {},
   "source": [
    "We can spot that spot that there is something unusual in the column vigencia_inicio (start date). After November 1st, 1997, the next row is October 31st, 1997, which can only mean that something have happened between the meetings. We can hypothesize that this may have happened because the Hong Kong crash occurred around that time, which could explain that an extraordinary meeting was held to set a new interest rate bands values."
   ]
  },
  {
   "cell_type": "markdown",
   "id": "bfa404f7-2fb1-4914-8fb2-9bdc54e92092",
   "metadata": {},
   "source": [
    "Another piece of information that we could check is wether a meeting is held after 45 days after the previous one, as stated on the Brazilian Central Bank website."
   ]
  },
  {
   "cell_type": "code",
   "execution_count": 27,
   "id": "59da12ed-924a-491e-952d-78e6e99e1d01",
   "metadata": {},
   "outputs": [
    {
     "data": {
      "text/plain": [
       "1     49 days\n",
       "2     49 days\n",
       "3     35 days\n",
       "4     49 days\n",
       "5     49 days\n",
       "        ...  \n",
       "272   35 days\n",
       "273   30 days\n",
       "274   33 days\n",
       "275   22 days\n",
       "276   34 days\n",
       "Name: reuniao_data, Length: 263, dtype: timedelta64[ns]"
      ]
     },
     "execution_count": 27,
     "metadata": {},
     "output_type": "execute_result"
    }
   ],
   "source": [
    "intermeeting_days =  (selic_df['reuniao_data'].shift(1) - selic_df['reuniao_data']).dropna()\n",
    "intermeeting_days"
   ]
  },
  {
   "cell_type": "markdown",
   "id": "7a9d78c1-f4ce-471d-960d-0de8be5e51df",
   "metadata": {},
   "source": [
    "We can see that's not true. Let's plot."
   ]
  },
  {
   "cell_type": "code",
   "execution_count": 28,
   "id": "6ff7fb1c-5df2-4f44-bb45-8233ea1f6061",
   "metadata": {},
   "outputs": [
    {
     "data": {
      "text/plain": [
       "[]"
      ]
     },
     "execution_count": 28,
     "metadata": {},
     "output_type": "execute_result"
    },
    {
     "data": {
      "image/png": "[encoded data removed]",
      "text/plain": [
       "<Figure size 640x480 with 1 Axes>"
      ]
     },
     "metadata": {},
     "output_type": "display_data"
    }
   ],
   "source": [
    "fig, ax = plt.subplots()\n",
    "sns.barplot(intermeeting_days.value_counts(), orient = 'h', ax = ax)\n",
    "ax.bar_label(ax.containers[0], fmt=lambda x: int(x), padding = 3)\n",
    "plt.plot()"
   ]
  },
  {
   "cell_type": "markdown",
   "id": "b514c1c1-a1f8-4fb2-b7d3-c332764b97e0",
   "metadata": {},
   "source": [
    "The highest ocurrence of days betweeen meetings was 42, closely followed by 49. Let's check the mean and the median."
   ]
  },
  {
   "cell_type": "code",
   "execution_count": 29,
   "id": "96e30863-310d-4ef6-9df9-f5f4693f1ef7",
   "metadata": {},
   "outputs": [
    {
     "data": {
      "text/html": [
       "<div>\n",
       "<style scoped>\n",
       "    .dataframe tbody tr th:only-of-type {\n",
       "        vertical-align: middle;\n",
       "    }\n",
       "\n",
       "    .dataframe tbody tr th {\n",
       "        vertical-align: top;\n",
       "    }\n",
       "\n",
       "    .dataframe thead th {\n",
       "        text-align: right;\n",
       "    }\n",
       "</style>\n",
       "<table border=\"1\" class=\"dataframe\">\n",
       "  <thead>\n",
       "    <tr style=\"text-align: right;\">\n",
       "      <th></th>\n",
       "      <th>reuniao_data</th>\n",
       "    </tr>\n",
       "  </thead>\n",
       "  <tbody>\n",
       "    <tr>\n",
       "      <th>mean</th>\n",
       "      <td>39 days 06:12:19.163498099</td>\n",
       "    </tr>\n",
       "    <tr>\n",
       "      <th>median</th>\n",
       "      <td>42 days 00:00:00</td>\n",
       "    </tr>\n",
       "  </tbody>\n",
       "</table>\n",
       "</div>"
      ],
      "text/plain": [
       "                     reuniao_data\n",
       "mean   39 days 06:12:19.163498099\n",
       "median           42 days 00:00:00"
      ]
     },
     "execution_count": 29,
     "metadata": {},
     "output_type": "execute_result"
    }
   ],
   "source": [
    "intermeeting_days.agg(['mean', 'median']).to_frame()"
   ]
  },
  {
   "cell_type": "markdown",
   "id": "c52100b5-abb4-4760-b318-69e0836156cd",
   "metadata": {},
   "source": [
    "The average days between meetings is 39, and the median is 42 days, This is probably a consequence of some meetings being only 8 days apart."
   ]
  },
  {
   "cell_type": "code",
   "execution_count": 30,
   "id": "5ae69138-17cc-427d-b539-823d900b1652",
   "metadata": {},
   "outputs": [
    {
     "data": {
      "text/plain": [
       "<Axes: ylabel='reuniao_data'>"
      ]
     },
     "execution_count": 30,
     "metadata": {},
     "output_type": "execute_result"
    },
    {
     "data": {
      "image/png": "[encoded data removed]",
      "text/plain": [
       "<Figure size 640x480 with 1 Axes>"
      ]
     },
     "metadata": {},
     "output_type": "display_data"
    }
   ],
   "source": [
    "intermeeting_days = (intermeeting_days.astype('str').str.split().str[0]).astype('int')\n",
    "ax = sns.boxenplot(intermeeting_days, alpha= 0.1)\n",
    "sns.boxplot(intermeeting_days, fill = False, ax = ax)\n",
    "sns.stripplot(intermeeting_days, color = 'red', ax = ax)"
   ]
  },
  {
   "cell_type": "markdown",
   "id": "d796fbc1-0f50-45dc-9109-3136780f9e82",
   "metadata": {},
   "source": [
    "From the above plot, we can tell at least three outliers. These outliers are clearly related to the 8 days between meetings. But to be sure, let's identify them."
   ]
  },
  {
   "cell_type": "code",
   "execution_count": 31,
   "id": "d705c746-610d-4030-a479-4a79a7e84735",
   "metadata": {},
   "outputs": [],
   "source": [
    "def boxplot_outlier_filter(data: pd.Series) -> pd.Series:\n",
    "    '''Returns a filter to isolate the outliers\n",
    "    \n",
    "    Parameters:\n",
    "    ---\n",
    "    data: pd.Series\n",
    "        Data to be filtered\n",
    "\n",
    "    Returns:\n",
    "    ---\n",
    "    pd.Series:\n",
    "        Boolean series where True is an outlier and False isn't\n",
    "    '''\n",
    "    data_mean = data.mean()\n",
    "    data_quartsup = data.quantile(.75)\n",
    "    data_quartinf = data.quantile(.25)\n",
    "    data_interquartile = data_quartsup - data_quartinf\n",
    "    factor = 1.5\n",
    "\n",
    "    filter_sup = (data > data_quartinf + (factor * data_interquartile)) \n",
    "    filter_inf = (data < data_quartinf - (factor * data_interquartile)) \n",
    "\n",
    "    return filter_sup | filter_inf"
   ]
  },
  {
   "cell_type": "code",
   "execution_count": null,
   "id": "e142058b-88ce-48cf-9f91-677c0b2fedd1",
   "metadata": {},
   "outputs": [],
   "source": []
  },
  {
   "cell_type": "code",
   "execution_count": 32,
   "id": "bf5b2990-c23c-4c8f-a3d1-8fe38ef39e0b",
   "metadata": {},
   "outputs": [
    {
     "data": {
      "text/html": [
       "<div>\n",
       "<style scoped>\n",
       "    .dataframe tbody tr th:only-of-type {\n",
       "        vertical-align: middle;\n",
       "    }\n",
       "\n",
       "    .dataframe tbody tr th {\n",
       "        vertical-align: top;\n",
       "    }\n",
       "\n",
       "    .dataframe thead th {\n",
       "        text-align: right;\n",
       "    }\n",
       "</style>\n",
       "<table border=\"1\" class=\"dataframe\">\n",
       "  <thead>\n",
       "    <tr style=\"text-align: right;\">\n",
       "      <th></th>\n",
       "      <th>intrareuniao_outlier</th>\n",
       "    </tr>\n",
       "  </thead>\n",
       "  <tbody>\n",
       "    <tr>\n",
       "      <th>58</th>\n",
       "      <td>63</td>\n",
       "    </tr>\n",
       "    <tr>\n",
       "      <th>193</th>\n",
       "      <td>8</td>\n",
       "    </tr>\n",
       "    <tr>\n",
       "      <th>250</th>\n",
       "      <td>8</td>\n",
       "    </tr>\n",
       "    <tr>\n",
       "      <th>260</th>\n",
       "      <td>8</td>\n",
       "    </tr>\n",
       "  </tbody>\n",
       "</table>\n",
       "</div>"
      ],
      "text/plain": [
       "     intrareuniao_outlier\n",
       "58                     63\n",
       "193                     8\n",
       "250                     8\n",
       "260                     8"
      ]
     },
     "execution_count": 32,
     "metadata": {},
     "output_type": "execute_result"
    }
   ],
   "source": [
    "intermeeting_outliers = intermeeting_days[boxplot_outlier_filter(intermeeting_days)].to_frame()\n",
    "intermeeting_outliers = intermeeting_outliers.rename(columns = {intermeeting_outliers.columns[0]: 'intrareuniao_outlier'})\n",
    "intermeeting_outliers"
   ]
  },
  {
   "cell_type": "markdown",
   "id": "df427e8f-d83c-4217-8bcc-3ec180d714ec",
   "metadata": {},
   "source": [
    "In reality, we have 4 outliers. I can't deny that 8 days between meeting makes me relate them to extraordinary meetings."
   ]
  },
  {
   "cell_type": "code",
   "execution_count": 33,
   "id": "5c898429-0818-41c0-a95c-e7a6fe87835a",
   "metadata": {},
   "outputs": [
    {
     "data": {
      "text/html": [
       "<div>\n",
       "<style scoped>\n",
       "    .dataframe tbody tr th:only-of-type {\n",
       "        vertical-align: middle;\n",
       "    }\n",
       "\n",
       "    .dataframe tbody tr th {\n",
       "        vertical-align: top;\n",
       "    }\n",
       "\n",
       "    .dataframe thead th {\n",
       "        text-align: right;\n",
       "    }\n",
       "</style>\n",
       "<table border=\"1\" class=\"dataframe\">\n",
       "  <thead>\n",
       "    <tr style=\"text-align: right;\">\n",
       "      <th></th>\n",
       "      <th>reuniao_num</th>\n",
       "      <th>reuniao_data</th>\n",
       "      <th>reuniao_vies</th>\n",
       "      <th>meta_selic_pctaa</th>\n",
       "      <th>tban_pctam</th>\n",
       "      <th>taxa_selic_pct</th>\n",
       "      <th>taxa_selic_pctaa</th>\n",
       "      <th>vigencia_inicio</th>\n",
       "      <th>vigencia_fim</th>\n",
       "      <th>data_comunicao_decisao_vies</th>\n",
       "    </tr>\n",
       "  </thead>\n",
       "  <tbody>\n",
       "    <tr>\n",
       "      <th>58</th>\n",
       "      <td>211ª</td>\n",
       "      <td>2017-12-06</td>\n",
       "      <td>sem viés</td>\n",
       "      <td>7.0</td>\n",
       "      <td>NaN</td>\n",
       "      <td>1.15</td>\n",
       "      <td>6.90</td>\n",
       "      <td>2017-12-07</td>\n",
       "      <td>2018-02-07</td>\n",
       "      <td>NaT</td>\n",
       "    </tr>\n",
       "    <tr>\n",
       "      <th>193</th>\n",
       "      <td>76ª ex. (8)</td>\n",
       "      <td>2002-10-14</td>\n",
       "      <td>sem viés</td>\n",
       "      <td>21.0</td>\n",
       "      <td>NaN</td>\n",
       "      <td>0.53</td>\n",
       "      <td>20.90</td>\n",
       "      <td>2002-10-15</td>\n",
       "      <td>2002-10-22</td>\n",
       "      <td>NaT</td>\n",
       "    </tr>\n",
       "    <tr>\n",
       "      <th>250</th>\n",
       "      <td>27ª</td>\n",
       "      <td>1998-09-02</td>\n",
       "      <td>n/a</td>\n",
       "      <td>19.0</td>\n",
       "      <td>29.75</td>\n",
       "      <td>0.45</td>\n",
       "      <td>25.49</td>\n",
       "      <td>1998-09-03</td>\n",
       "      <td>1998-09-10</td>\n",
       "      <td>NaT</td>\n",
       "    </tr>\n",
       "    <tr>\n",
       "      <th>260</th>\n",
       "      <td>17ª (7)</td>\n",
       "      <td>1997-10-22</td>\n",
       "      <td>n/a</td>\n",
       "      <td>1.0</td>\n",
       "      <td>1.00</td>\n",
       "      <td>3.04</td>\n",
       "      <td>45.90</td>\n",
       "      <td>1997-11-01</td>\n",
       "      <td>1997-11-30</td>\n",
       "      <td>NaT</td>\n",
       "    </tr>\n",
       "  </tbody>\n",
       "</table>\n",
       "</div>"
      ],
      "text/plain": [
       "      reuniao_num reuniao_data reuniao_vies  meta_selic_pctaa  tban_pctam   \n",
       "58           211ª   2017-12-06     sem viés               7.0         NaN  \\\n",
       "193   76ª ex. (8)   2002-10-14     sem viés              21.0         NaN   \n",
       "250           27ª   1998-09-02          n/a              19.0       29.75   \n",
       "260       17ª (7)   1997-10-22          n/a               1.0        1.00   \n",
       "\n",
       "     taxa_selic_pct  taxa_selic_pctaa vigencia_inicio vigencia_fim   \n",
       "58             1.15              6.90      2017-12-07   2018-02-07  \\\n",
       "193            0.53             20.90      2002-10-15   2002-10-22   \n",
       "250            0.45             25.49      1998-09-03   1998-09-10   \n",
       "260            3.04             45.90      1997-11-01   1997-11-30   \n",
       "\n",
       "    data_comunicao_decisao_vies  \n",
       "58                          NaT  \n",
       "193                         NaT  \n",
       "250                         NaT  \n",
       "260                         NaT  "
      ]
     },
     "execution_count": 33,
     "metadata": {},
     "output_type": "execute_result"
    }
   ],
   "source": [
    "intermeeting_outlier_filter = boxplot_outlier_filter(intermeeting_days).reindex(np.arange(0, len(selic_df)), fill_value = False)\n",
    "selic_df[intermeeting_outlier_filter]"
   ]
  },
  {
   "cell_type": "markdown",
   "id": "313b22c9-43a0-496b-bed1-6f1af41b3f44",
   "metadata": {},
   "source": [
    "Let's look at these indices' neighbors"
   ]
  },
  {
   "cell_type": "code",
   "execution_count": 34,
   "id": "83bd8711-7639-4a7a-8fae-d07408796cd6",
   "metadata": {},
   "outputs": [
    {
     "data": {
      "text/html": [
       "<div>\n",
       "<style scoped>\n",
       "    .dataframe tbody tr th:only-of-type {\n",
       "        vertical-align: middle;\n",
       "    }\n",
       "\n",
       "    .dataframe tbody tr th {\n",
       "        vertical-align: top;\n",
       "    }\n",
       "\n",
       "    .dataframe thead th {\n",
       "        text-align: right;\n",
       "    }\n",
       "</style>\n",
       "<table border=\"1\" class=\"dataframe\">\n",
       "  <thead>\n",
       "    <tr style=\"text-align: right;\">\n",
       "      <th></th>\n",
       "      <th>reuniao_num</th>\n",
       "      <th>reuniao_data</th>\n",
       "      <th>reuniao_vies</th>\n",
       "      <th>meta_selic_pctaa</th>\n",
       "      <th>tban_pctam</th>\n",
       "      <th>taxa_selic_pct</th>\n",
       "      <th>taxa_selic_pctaa</th>\n",
       "      <th>vigencia_inicio</th>\n",
       "      <th>vigencia_fim</th>\n",
       "      <th>data_comunicao_decisao_vies</th>\n",
       "    </tr>\n",
       "  </thead>\n",
       "  <tbody>\n",
       "    <tr>\n",
       "      <th>57</th>\n",
       "      <td>212ª</td>\n",
       "      <td>2018-02-07</td>\n",
       "      <td>n/a</td>\n",
       "      <td>6.75</td>\n",
       "      <td>NaN</td>\n",
       "      <td>0.72</td>\n",
       "      <td>6.65</td>\n",
       "      <td>2018-02-08</td>\n",
       "      <td>2018-03-21</td>\n",
       "      <td>NaT</td>\n",
       "    </tr>\n",
       "    <tr>\n",
       "      <th>58</th>\n",
       "      <td>211ª</td>\n",
       "      <td>2017-12-06</td>\n",
       "      <td>sem viés</td>\n",
       "      <td>7.00</td>\n",
       "      <td>NaN</td>\n",
       "      <td>1.15</td>\n",
       "      <td>6.90</td>\n",
       "      <td>2017-12-07</td>\n",
       "      <td>2018-02-07</td>\n",
       "      <td>NaT</td>\n",
       "    </tr>\n",
       "    <tr>\n",
       "      <th>59</th>\n",
       "      <td>210ª</td>\n",
       "      <td>2017-10-25</td>\n",
       "      <td>sem viés</td>\n",
       "      <td>7.50</td>\n",
       "      <td>NaN</td>\n",
       "      <td>0.80</td>\n",
       "      <td>7.40</td>\n",
       "      <td>2017-10-26</td>\n",
       "      <td>2017-12-06</td>\n",
       "      <td>NaT</td>\n",
       "    </tr>\n",
       "    <tr>\n",
       "      <th>192</th>\n",
       "      <td>77ª</td>\n",
       "      <td>2002-10-22</td>\n",
       "      <td>sem viés</td>\n",
       "      <td>21.00</td>\n",
       "      <td>NaN</td>\n",
       "      <td>1.44</td>\n",
       "      <td>20.90</td>\n",
       "      <td>2002-10-23</td>\n",
       "      <td>2002-11-20</td>\n",
       "      <td>NaT</td>\n",
       "    </tr>\n",
       "    <tr>\n",
       "      <th>193</th>\n",
       "      <td>76ª ex. (8)</td>\n",
       "      <td>2002-10-14</td>\n",
       "      <td>sem viés</td>\n",
       "      <td>21.00</td>\n",
       "      <td>NaN</td>\n",
       "      <td>0.53</td>\n",
       "      <td>20.90</td>\n",
       "      <td>2002-10-15</td>\n",
       "      <td>2002-10-22</td>\n",
       "      <td>NaT</td>\n",
       "    </tr>\n",
       "    <tr>\n",
       "      <th>194</th>\n",
       "      <td>75ª</td>\n",
       "      <td>2002-09-18</td>\n",
       "      <td>sem viés</td>\n",
       "      <td>18.00</td>\n",
       "      <td>NaN</td>\n",
       "      <td>1.18</td>\n",
       "      <td>17.90</td>\n",
       "      <td>2002-09-19</td>\n",
       "      <td>2002-10-14</td>\n",
       "      <td>NaT</td>\n",
       "    </tr>\n",
       "    <tr>\n",
       "      <th>249</th>\n",
       "      <td>28ª ex. (8)</td>\n",
       "      <td>1998-09-10</td>\n",
       "      <td>n/a</td>\n",
       "      <td>19.00</td>\n",
       "      <td>49.75</td>\n",
       "      <td>2.58</td>\n",
       "      <td>40.18</td>\n",
       "      <td>1998-09-11</td>\n",
       "      <td>1998-10-07</td>\n",
       "      <td>NaT</td>\n",
       "    </tr>\n",
       "    <tr>\n",
       "      <th>250</th>\n",
       "      <td>27ª</td>\n",
       "      <td>1998-09-02</td>\n",
       "      <td>n/a</td>\n",
       "      <td>19.00</td>\n",
       "      <td>29.75</td>\n",
       "      <td>0.45</td>\n",
       "      <td>25.49</td>\n",
       "      <td>1998-09-03</td>\n",
       "      <td>1998-09-10</td>\n",
       "      <td>NaT</td>\n",
       "    </tr>\n",
       "    <tr>\n",
       "      <th>251</th>\n",
       "      <td>26ª</td>\n",
       "      <td>1998-07-29</td>\n",
       "      <td>n/a</td>\n",
       "      <td>19.75</td>\n",
       "      <td>25.75</td>\n",
       "      <td>1.76</td>\n",
       "      <td>19.25</td>\n",
       "      <td>1998-07-30</td>\n",
       "      <td>1998-09-02</td>\n",
       "      <td>NaT</td>\n",
       "    </tr>\n",
       "    <tr>\n",
       "      <th>259</th>\n",
       "      <td>18ª ex. (8)</td>\n",
       "      <td>1997-10-30</td>\n",
       "      <td>n/a</td>\n",
       "      <td>3.05</td>\n",
       "      <td>3.23</td>\n",
       "      <td>3.18</td>\n",
       "      <td>45.67</td>\n",
       "      <td>1997-10-31</td>\n",
       "      <td>1997-11-30</td>\n",
       "      <td>NaT</td>\n",
       "    </tr>\n",
       "    <tr>\n",
       "      <th>260</th>\n",
       "      <td>17ª (7)</td>\n",
       "      <td>1997-10-22</td>\n",
       "      <td>n/a</td>\n",
       "      <td>1.00</td>\n",
       "      <td>1.00</td>\n",
       "      <td>3.04</td>\n",
       "      <td>45.90</td>\n",
       "      <td>1997-11-01</td>\n",
       "      <td>1997-11-30</td>\n",
       "      <td>NaT</td>\n",
       "    </tr>\n",
       "    <tr>\n",
       "      <th>261</th>\n",
       "      <td>16ª</td>\n",
       "      <td>1997-09-17</td>\n",
       "      <td>n/a</td>\n",
       "      <td>1.58</td>\n",
       "      <td>1.78</td>\n",
       "      <td>1.53</td>\n",
       "      <td>19.05</td>\n",
       "      <td>1997-10-01</td>\n",
       "      <td>1997-10-30</td>\n",
       "      <td>NaT</td>\n",
       "    </tr>\n",
       "  </tbody>\n",
       "</table>\n",
       "</div>"
      ],
      "text/plain": [
       "      reuniao_num reuniao_data reuniao_vies  meta_selic_pctaa  tban_pctam   \n",
       "57           212ª   2018-02-07          n/a              6.75         NaN  \\\n",
       "58           211ª   2017-12-06     sem viés              7.00         NaN   \n",
       "59           210ª   2017-10-25     sem viés              7.50         NaN   \n",
       "192           77ª   2002-10-22     sem viés             21.00         NaN   \n",
       "193   76ª ex. (8)   2002-10-14     sem viés             21.00         NaN   \n",
       "194           75ª   2002-09-18     sem viés             18.00         NaN   \n",
       "249   28ª ex. (8)   1998-09-10          n/a             19.00       49.75   \n",
       "250           27ª   1998-09-02          n/a             19.00       29.75   \n",
       "251           26ª   1998-07-29          n/a             19.75       25.75   \n",
       "259   18ª ex. (8)   1997-10-30          n/a              3.05        3.23   \n",
       "260       17ª (7)   1997-10-22          n/a              1.00        1.00   \n",
       "261           16ª   1997-09-17          n/a              1.58        1.78   \n",
       "\n",
       "     taxa_selic_pct  taxa_selic_pctaa vigencia_inicio vigencia_fim   \n",
       "57             0.72              6.65      2018-02-08   2018-03-21  \\\n",
       "58             1.15              6.90      2017-12-07   2018-02-07   \n",
       "59             0.80              7.40      2017-10-26   2017-12-06   \n",
       "192            1.44             20.90      2002-10-23   2002-11-20   \n",
       "193            0.53             20.90      2002-10-15   2002-10-22   \n",
       "194            1.18             17.90      2002-09-19   2002-10-14   \n",
       "249            2.58             40.18      1998-09-11   1998-10-07   \n",
       "250            0.45             25.49      1998-09-03   1998-09-10   \n",
       "251            1.76             19.25      1998-07-30   1998-09-02   \n",
       "259            3.18             45.67      1997-10-31   1997-11-30   \n",
       "260            3.04             45.90      1997-11-01   1997-11-30   \n",
       "261            1.53             19.05      1997-10-01   1997-10-30   \n",
       "\n",
       "    data_comunicao_decisao_vies  \n",
       "57                          NaT  \n",
       "58                          NaT  \n",
       "59                          NaT  \n",
       "192                         NaT  \n",
       "193                         NaT  \n",
       "194                         NaT  \n",
       "249                         NaT  \n",
       "250                         NaT  \n",
       "251                         NaT  \n",
       "259                         NaT  \n",
       "260                         NaT  \n",
       "261                         NaT  "
      ]
     },
     "execution_count": 34,
     "metadata": {},
     "output_type": "execute_result"
    }
   ],
   "source": [
    "intermeeting_outliers_idx = intermeeting_outliers.index\n",
    "intermeeting_outliers_idxvizinhos = []\n",
    "\n",
    "for i in intermeeting_outliers_idx:\n",
    "    if i > 0 and i <= len(selic_df):\n",
    "        intermeeting_outliers_idxvizinhos.extend([i - 1, i, i + 1])\n",
    "\n",
    "selic_df.loc[intermeeting_outliers_idxvizinhos, :]"
   ]
  },
  {
   "cell_type": "markdown",
   "id": "71f770f9-3c8e-465c-929d-21fc7ecee6cb",
   "metadata": {},
   "source": [
    "Looking at the reuniao_num column, after October 22, 1997, there was an extraordinary meeting 8 days later. The same happened after September 2, 2002. On October 14, 2002, there was an extraordinary meeting, the effect of which lasted only 8 days until the meeting on October 22.\n",
    "\n",
    "After looking into it, I was unable to find why one of the interval between meetings was as long as 63 days."
   ]
  },
  {
   "cell_type": "markdown",
   "id": "f0b80433-7ac4-46b2-a92b-ba38a59396ad",
   "metadata": {},
   "source": [
    "We can also enrich our analysis by looking at the difference between the meta (target interest rate) and taxa_selic (interest rate). For this, we are going to create a new column called taxaemeta_dif (target_and_interest_diff)"
   ]
  },
  {
   "cell_type": "code",
   "execution_count": 35,
   "id": "42a2f244-15ec-42af-8be7-ed69b0c03769",
   "metadata": {},
   "outputs": [
    {
     "data": {
      "text/html": [
       "<div>\n",
       "<style scoped>\n",
       "    .dataframe tbody tr th:only-of-type {\n",
       "        vertical-align: middle;\n",
       "    }\n",
       "\n",
       "    .dataframe tbody tr th {\n",
       "        vertical-align: top;\n",
       "    }\n",
       "\n",
       "    .dataframe thead th {\n",
       "        text-align: right;\n",
       "    }\n",
       "</style>\n",
       "<table border=\"1\" class=\"dataframe\">\n",
       "  <thead>\n",
       "    <tr style=\"text-align: right;\">\n",
       "      <th></th>\n",
       "      <th>reuniao_num</th>\n",
       "      <th>reuniao_data</th>\n",
       "      <th>reuniao_vies</th>\n",
       "      <th>meta_selic_pctaa</th>\n",
       "      <th>tban_pctam</th>\n",
       "      <th>taxa_selic_pct</th>\n",
       "      <th>taxa_selic_pctaa</th>\n",
       "      <th>vigencia_inicio</th>\n",
       "      <th>vigencia_fim</th>\n",
       "      <th>data_comunicao_decisao_vies</th>\n",
       "      <th>taxaemeta_dif</th>\n",
       "    </tr>\n",
       "  </thead>\n",
       "  <tbody>\n",
       "    <tr>\n",
       "      <th>0</th>\n",
       "      <td>269ª</td>\n",
       "      <td>2025-03-19</td>\n",
       "      <td>n/a</td>\n",
       "      <td>14.25</td>\n",
       "      <td>NaN</td>\n",
       "      <td>NaN</td>\n",
       "      <td>NaN</td>\n",
       "      <td>2025-03-20</td>\n",
       "      <td>2025-05-01</td>\n",
       "      <td>NaT</td>\n",
       "      <td>NaN</td>\n",
       "    </tr>\n",
       "    <tr>\n",
       "      <th>1</th>\n",
       "      <td>268ª</td>\n",
       "      <td>2025-01-29</td>\n",
       "      <td>n/a</td>\n",
       "      <td>13.25</td>\n",
       "      <td>NaN</td>\n",
       "      <td>1.63</td>\n",
       "      <td>13.15</td>\n",
       "      <td>2025-01-30</td>\n",
       "      <td>2025-03-19</td>\n",
       "      <td>NaT</td>\n",
       "      <td>0.1</td>\n",
       "    </tr>\n",
       "    <tr>\n",
       "      <th>2</th>\n",
       "      <td>267ª</td>\n",
       "      <td>2024-12-11</td>\n",
       "      <td>n/a</td>\n",
       "      <td>12.25</td>\n",
       "      <td>NaN</td>\n",
       "      <td>1.51</td>\n",
       "      <td>12.15</td>\n",
       "      <td>2024-12-12</td>\n",
       "      <td>2025-01-29</td>\n",
       "      <td>NaT</td>\n",
       "      <td>0.1</td>\n",
       "    </tr>\n",
       "    <tr>\n",
       "      <th>3</th>\n",
       "      <td>266ª</td>\n",
       "      <td>2024-11-06</td>\n",
       "      <td>n/a</td>\n",
       "      <td>11.25</td>\n",
       "      <td>NaN</td>\n",
       "      <td>0.97</td>\n",
       "      <td>11.15</td>\n",
       "      <td>2024-11-07</td>\n",
       "      <td>2024-12-11</td>\n",
       "      <td>NaT</td>\n",
       "      <td>0.1</td>\n",
       "    </tr>\n",
       "    <tr>\n",
       "      <th>4</th>\n",
       "      <td>265ª</td>\n",
       "      <td>2024-09-18</td>\n",
       "      <td>n/a</td>\n",
       "      <td>10.75</td>\n",
       "      <td>NaN</td>\n",
       "      <td>1.42</td>\n",
       "      <td>10.65</td>\n",
       "      <td>2024-09-19</td>\n",
       "      <td>2024-11-06</td>\n",
       "      <td>NaT</td>\n",
       "      <td>0.1</td>\n",
       "    </tr>\n",
       "  </tbody>\n",
       "</table>\n",
       "</div>"
      ],
      "text/plain": [
       "  reuniao_num reuniao_data reuniao_vies  meta_selic_pctaa  tban_pctam   \n",
       "0        269ª   2025-03-19          n/a             14.25         NaN  \\\n",
       "1        268ª   2025-01-29          n/a             13.25         NaN   \n",
       "2        267ª   2024-12-11          n/a             12.25         NaN   \n",
       "3        266ª   2024-11-06          n/a             11.25         NaN   \n",
       "4        265ª   2024-09-18          n/a             10.75         NaN   \n",
       "\n",
       "   taxa_selic_pct  taxa_selic_pctaa vigencia_inicio vigencia_fim   \n",
       "0             NaN               NaN      2025-03-20   2025-05-01  \\\n",
       "1            1.63             13.15      2025-01-30   2025-03-19   \n",
       "2            1.51             12.15      2024-12-12   2025-01-29   \n",
       "3            0.97             11.15      2024-11-07   2024-12-11   \n",
       "4            1.42             10.65      2024-09-19   2024-11-06   \n",
       "\n",
       "  data_comunicao_decisao_vies  taxaemeta_dif  \n",
       "0                         NaT            NaN  \n",
       "1                         NaT            0.1  \n",
       "2                         NaT            0.1  \n",
       "3                         NaT            0.1  \n",
       "4                         NaT            0.1  "
      ]
     },
     "execution_count": 35,
     "metadata": {},
     "output_type": "execute_result"
    }
   ],
   "source": [
    "selic_df['taxaemeta_dif'] = selic_df['meta_selic_pctaa'] - selic_df['taxa_selic_pctaa']\n",
    "selic_df.head()"
   ]
  },
  {
   "cell_type": "code",
   "execution_count": 36,
   "id": "d3a48cb8-9892-428e-9c47-96ef8afac08a",
   "metadata": {},
   "outputs": [
    {
     "data": {
      "text/plain": [
       "<Axes: xlabel='vigencia_inicio'>"
      ]
     },
     "execution_count": 36,
     "metadata": {},
     "output_type": "execute_result"
    },
    {
     "data": {
      "image/png": "[encoded data removed]",
      "text/plain": [
       "<Figure size 640x480 with 1 Axes>"
      ]
     },
     "metadata": {},
     "output_type": "display_data"
    }
   ],
   "source": [
    "selic_df.plot(x = 'vigencia_inicio', y =  'taxaemeta_dif', drawstyle='steps-post')"
   ]
  },
  {
   "cell_type": "markdown",
   "id": "3501d4ce-9b3d-48f4-a877-7360aa1cea68",
   "metadata": {},
   "source": [
    "It is clear that there were a lot of variation in the 90s while in the 2000s, it became more stable"
   ]
  },
  {
   "cell_type": "code",
   "execution_count": 37,
   "id": "2b3e5300-df02-4449-a413-d238c1e3bbdb",
   "metadata": {},
   "outputs": [
    {
     "data": {
      "text/plain": [
       "<Axes: xlabel='vigencia_inicio'>"
      ]
     },
     "execution_count": 37,
     "metadata": {},
     "output_type": "execute_result"
    },
    {
     "data": {
      "image/png": "[encoded data removed]",
      "text/plain": [
       "<Figure size 640x480 with 1 Axes>"
      ]
     },
     "metadata": {},
     "output_type": "display_data"
    }
   ],
   "source": [
    "selic_df[selic_df['vigencia_inicio'] < '1999-06']\\\n",
    "    .plot(x = 'vigencia_inicio', y = 'taxaemeta_dif', drawstyle='steps-post', grid=True)"
   ]
  },
  {
   "cell_type": "markdown",
   "id": "8bd97007-5563-4605-8f08-907d8035802a",
   "metadata": {},
   "source": [
    "After 1997, the meta (target interest rate) was lower 20 points than the interest rate. At the end of 1997, there was a sudden drop that caused the difference reach 40 percent points. After some complementary research, I could relate this difference to the Hong Kong stock market crash. After this, there was another dip from approximately 0 to 20 percent points, for which I could not find a justification."
   ]
  },
  {
   "cell_type": "code",
   "execution_count": 38,
   "id": "8500e78f-a461-4c82-a86c-ddd42d034325",
   "metadata": {},
   "outputs": [
    {
     "data": {
      "text/plain": [
       "<Axes: xlabel='vigencia_inicio'>"
      ]
     },
     "execution_count": 38,
     "metadata": {},
     "output_type": "execute_result"
    },
    {
     "data": {
      "image/png": "[encoded data removed]",
      "text/plain": [
       "<Figure size 640x480 with 1 Axes>"
      ]
     },
     "metadata": {},
     "output_type": "display_data"
    }
   ],
   "source": [
    "selic_df[selic_df['vigencia_inicio'] < '1999-06'].plot(\n",
    "    x = 'vigencia_inicio', \n",
    "    y =  ['taxaemeta_dif', 'meta_selic_pctaa', 'taxa_selic_pctaa'], \n",
    "    drawstyle='steps-post', \n",
    "    grid=True\n",
    ")"
   ]
  },
  {
   "cell_type": "markdown",
   "id": "70f845cc-f03b-4402-bb22-64286305fc71",
   "metadata": {},
   "source": [
    "From the above plot, we see that the meta (targe interest rate) was poorly set or something is wrong with the data. Refering back to Brazilian Central Bank website, it is reported that there was no target interest rate before March 1999, and these values that are in the column correspond to TBC (Central Bank Base Interest Rate). At the time TBC was used as a lower bound and TBAN served as upper bound for the interest rate bands. The bands were employed to control the interest rate. In addition, the values for TBAN and TBC were monthly until January 1998, while the column in question contains annual values.. So we need to create new columns for these new features."
   ]
  },
  {
   "cell_type": "code",
   "execution_count": 39,
   "id": "0f1ddc5a-c175-4dbd-97cb-131a2d048674",
   "metadata": {},
   "outputs": [],
   "source": [
    "selic_df['tbc_pctam'] = selic_df.loc[selic_df['reuniao_data'] < '1999-03-04', 'meta_selic_pctaa']\n",
    "selic_df.loc[selic_df['reuniao_data'] < '1999-03-04', 'meta_selic_pctaa'] = np.nan\n",
    "selic_df['tbc_pctaa'] = selic_df.loc[selic_df['vigencia_inicio'] >= '1998-01-02', 'tbc_pctam']\n",
    "selic_df.loc[selic_df['vigencia_inicio'] >= '1998-01-02', 'tbc_pctam'] = np.nan\n",
    "selic_df['tban_pctaa'] = selic_df.loc[selic_df['vigencia_inicio'] >= '1998-01-02', 'tban_pctam'] \n",
    "selic_df.loc[selic_df['vigencia_inicio'] >= '1998-01-02', 'tban_pctam'] = np.nan"
   ]
  },
  {
   "cell_type": "markdown",
   "id": "b6a5757c-04e5-4908-81bb-25b3981e3354",
   "metadata": {},
   "source": [
    "We now need to correct the column taxaemeta_did (the difference between target interest rate and the interest rate_"
   ]
  },
  {
   "cell_type": "code",
   "execution_count": 40,
   "id": "60c619e9-970a-4da8-8e11-a01e3c967d61",
   "metadata": {},
   "outputs": [],
   "source": [
    "selic_df.loc[selic_df['reuniao_data'] < '1999-03-04', 'taxaemeta_dif'] = np.nan"
   ]
  },
  {
   "cell_type": "markdown",
   "id": "a9165998-9a81-4616-8a4a-629535b4aa41",
   "metadata": {},
   "source": [
    "We revisit the plot taxaemeta_dif and plot a moving avarage and moving standard deviation."
   ]
  },
  {
   "cell_type": "code",
   "execution_count": 41,
   "id": "43f8675f-bf76-44ed-9101-3b1a54a92103",
   "metadata": {},
   "outputs": [
    {
     "data": {
      "image/png": "[encoded data removed]",
      "text/plain": [
       "<Figure size 1500x700 with 2 Axes>"
      ]
     },
     "metadata": {},
     "output_type": "display_data"
    }
   ],
   "source": [
    "fig, axs = plt.subplots(1, 2, figsize = (15, 7), sharey = True)\n",
    "\n",
    "selic_df.plot(x = 'vigencia_inicio',  y = 'taxaemeta_dif', drawstyle='steps-post', grid=True, ax = axs[0], label= 'Difference between the target and the interest rate')\n",
    "axs[0].plot(selic_df.loc[:,'vigencia_inicio'], selic_df.loc[:,'taxaemeta_dif'].rolling(8).mean(), label= 'Moving Average')\n",
    "axs[0].set_xlabel('Data')\n",
    "axs[0].set_ylabel('Pontos Percentuais')\n",
    "axs[0].legend()\n",
    "\n",
    "axs[1].fill_between(selic_df['vigencia_inicio'], selic_df['taxaemeta_dif'], step='post')\n",
    "axs[1].plot(selic_df.loc[:,'vigencia_inicio'], selic_df.loc[:,'taxaemeta_dif'].rolling(8).std(), 'r-', label= 'Moving standard deviation')\n",
    "axs[1].set_xlabel('Data')\n",
    "axs[1].grid()\n",
    "axs[1].legend()\n",
    "\n",
    "\n",
    "fig.tight_layout()\n",
    "plt.ylabel('Percent Point')\n",
    "plt.xlabel('Year')\n",
    "plt.show()"
   ]
  },
  {
   "cell_type": "markdown",
   "id": "fe74d19d-e621-4a8c-ac45-f45b6113e0ac",
   "metadata": {},
   "source": [
    "We now can see that before 2014, there was significant variation in the difference between the target interest rate and the actual interest rate, while after that, it stabilized at 0.1. It is clear that in 2001, the interest rate exceeded the target. After that, the difference increased to 0.2 percent points and then dipped to 0. After 2006, we observe the difference gradually tending toward 0.1, eventually stabilizing."
   ]
  },
  {
   "cell_type": "markdown",
   "id": "71b44920-3f2d-40ca-9843-91a14fc50159",
   "metadata": {},
   "source": [
    "Now that we created the columns for the interest rate bands, we could try to visualize it"
   ]
  },
  {
   "cell_type": "code",
   "execution_count": 42,
   "id": "0cc637c0-64e1-4b48-8820-cac20977daff",
   "metadata": {},
   "outputs": [
    {
     "data": {
      "text/plain": [
       "<matplotlib.collections.PolyCollection at 0x1bfb207c950>"
      ]
     },
     "execution_count": 42,
     "metadata": {},
     "output_type": "execute_result"
    },
    {
     "data": {
      "image/png": "[encoded data removed]",
      "text/plain": [
       "<Figure size 640x480 with 1 Axes>"
      ]
     },
     "metadata": {},
     "output_type": "display_data"
    }
   ],
   "source": [
    "fig, ax = plt.subplots()\n",
    "selic_df.plot(\n",
    "    x = 'vigencia_inicio', \n",
    "    y =  ['tbc_pctam', 'tban_pctam'], \n",
    "    drawstyle='steps-post', \n",
    "    grid=True,\n",
    "    ax = ax\n",
    ")\n",
    "selic_df[selic_df['vigencia_inicio'] < '02/01/98'].plot(\n",
    "    x = 'vigencia_inicio', \n",
    "    y = 'taxa_selic_pct', \n",
    "    drawstyle='steps-post', \n",
    "    ax = ax)\n",
    "ax.fill_between(selic_df['vigencia_inicio'], selic_df['tbc_pctam'], selic_df['tban_pctam'], alpha= .2, step='pre')"
   ]
  },
  {
   "cell_type": "markdown",
   "id": "8a3c0b54-93e0-441e-bfe7-a840a150c5cc",
   "metadata": {},
   "source": [
    "The data appears to be incorrect when we look in November 1997. It is the same date the we detected earlier where we found inconsistencies in the dates."
   ]
  },
  {
   "cell_type": "code",
   "execution_count": 43,
   "id": "f4301d4e-86e8-4bc6-bce5-eb38180fb34d",
   "metadata": {},
   "outputs": [
    {
     "data": {
      "text/html": [
       "<div>\n",
       "<style scoped>\n",
       "    .dataframe tbody tr th:only-of-type {\n",
       "        vertical-align: middle;\n",
       "    }\n",
       "\n",
       "    .dataframe tbody tr th {\n",
       "        vertical-align: top;\n",
       "    }\n",
       "\n",
       "    .dataframe thead th {\n",
       "        text-align: right;\n",
       "    }\n",
       "</style>\n",
       "<table border=\"1\" class=\"dataframe\">\n",
       "  <thead>\n",
       "    <tr style=\"text-align: right;\">\n",
       "      <th></th>\n",
       "      <th>reuniao_data</th>\n",
       "      <th>tban_pctam</th>\n",
       "      <th>tbc_pctam</th>\n",
       "    </tr>\n",
       "  </thead>\n",
       "  <tbody>\n",
       "    <tr>\n",
       "      <th>260</th>\n",
       "      <td>1997-10-22</td>\n",
       "      <td>1.0</td>\n",
       "      <td>1.0</td>\n",
       "    </tr>\n",
       "  </tbody>\n",
       "</table>\n",
       "</div>"
      ],
      "text/plain": [
       "    reuniao_data  tban_pctam  tbc_pctam\n",
       "260   1997-10-22         1.0        1.0"
      ]
     },
     "execution_count": 43,
     "metadata": {},
     "output_type": "execute_result"
    }
   ],
   "source": [
    "selic_df[selic_df['reuniao_data'] ==  '1997-10-22'][['reuniao_data', 'tban_pctam', 'tbc_pctam']]"
   ]
  },
  {
   "cell_type": "markdown",
   "id": "59fc902b-65b0-4814-8d33-9cd735af9875",
   "metadata": {},
   "source": [
    "After researching this date, I found that these values did not come into effect. So we can remove this row."
   ]
  },
  {
   "cell_type": "code",
   "execution_count": 44,
   "id": "af6a733b-5938-45cf-9e7e-9f2b8682e35e",
   "metadata": {},
   "outputs": [],
   "source": [
    "selic_df = selic_df.drop(selic_df[selic_df['reuniao_data'] ==  '1997-10-22'].index, axis = 0)"
   ]
  },
  {
   "cell_type": "markdown",
   "id": "012fc053-ea07-4142-a1f4-e14ce6a54aad",
   "metadata": {},
   "source": [
    "We plot now with interest rate bands."
   ]
  },
  {
   "cell_type": "code",
   "execution_count": 45,
   "id": "a3ea43bf-ca54-4db3-8ea9-162765d8ce24",
   "metadata": {},
   "outputs": [
    {
     "data": {
      "text/plain": [
       "[]"
      ]
     },
     "execution_count": 45,
     "metadata": {},
     "output_type": "execute_result"
    },
    {
     "data": {
      "image/png": "[encoded data removed]",
      "text/plain": [
       "<Figure size 640x480 with 1 Axes>"
      ]
     },
     "metadata": {},
     "output_type": "display_data"
    }
   ],
   "source": [
    "fig, ax = plt.subplots()\n",
    "selic_df.plot(\n",
    "    x = 'vigencia_inicio', \n",
    "    y =  ['tbc_pctam', 'tban_pctam'], \n",
    "    drawstyle='steps-post', \n",
    "    grid=True,\n",
    "    ax = ax\n",
    ")\n",
    "selic_df[selic_df['vigencia_inicio'] < '02/01/98'].plot(\n",
    "    x = 'vigencia_inicio', \n",
    "    y = 'taxa_selic_pct', \n",
    "    drawstyle='steps-post', \n",
    "    ax = ax)\n",
    "ax.fill_between(selic_df['vigencia_inicio'], selic_df['tbc_pctam'], selic_df['tban_pctam'], alpha= .2, step='pre')\n",
    "plt.plot()"
   ]
  },
  {
   "cell_type": "markdown",
   "id": "b3d95bff-1f94-4a26-b604-59d8d69cc772",
   "metadata": {},
   "source": [
    "We see that the interest rate tended towards the the TBC values, that is, the lower bound. In November 1997, we observe a abrupt increase due to Hong Kong market crash."
   ]
  },
  {
   "cell_type": "code",
   "execution_count": 46,
   "id": "02952b83-7683-4eba-80f6-4509e8020ba4",
   "metadata": {},
   "outputs": [
    {
     "data": {
      "text/html": [
       "<div>\n",
       "<style scoped>\n",
       "    .dataframe tbody tr th:only-of-type {\n",
       "        vertical-align: middle;\n",
       "    }\n",
       "\n",
       "    .dataframe tbody tr th {\n",
       "        vertical-align: top;\n",
       "    }\n",
       "\n",
       "    .dataframe thead th {\n",
       "        text-align: right;\n",
       "    }\n",
       "</style>\n",
       "<table border=\"1\" class=\"dataframe\">\n",
       "  <thead>\n",
       "    <tr style=\"text-align: right;\">\n",
       "      <th></th>\n",
       "      <th>reuniao_num</th>\n",
       "      <th>reuniao_data</th>\n",
       "      <th>reuniao_vies</th>\n",
       "      <th>meta_selic_pctaa</th>\n",
       "      <th>tban_pctam</th>\n",
       "      <th>taxa_selic_pct</th>\n",
       "      <th>taxa_selic_pctaa</th>\n",
       "      <th>vigencia_inicio</th>\n",
       "      <th>vigencia_fim</th>\n",
       "      <th>data_comunicao_decisao_vies</th>\n",
       "      <th>taxaemeta_dif</th>\n",
       "      <th>tbc_pctam</th>\n",
       "      <th>tbc_pctaa</th>\n",
       "      <th>tban_pctaa</th>\n",
       "    </tr>\n",
       "  </thead>\n",
       "  <tbody>\n",
       "    <tr>\n",
       "      <th>261</th>\n",
       "      <td>16ª</td>\n",
       "      <td>1997-09-17</td>\n",
       "      <td>n/a</td>\n",
       "      <td>NaN</td>\n",
       "      <td>1.78</td>\n",
       "      <td>1.53</td>\n",
       "      <td>19.05</td>\n",
       "      <td>1997-10-01</td>\n",
       "      <td>1997-10-30</td>\n",
       "      <td>NaT</td>\n",
       "      <td>NaN</td>\n",
       "      <td>1.58</td>\n",
       "      <td>NaN</td>\n",
       "      <td>NaN</td>\n",
       "    </tr>\n",
       "  </tbody>\n",
       "</table>\n",
       "</div>"
      ],
      "text/plain": [
       "    reuniao_num reuniao_data reuniao_vies  meta_selic_pctaa  tban_pctam   \n",
       "261         16ª   1997-09-17          n/a               NaN        1.78  \\\n",
       "\n",
       "     taxa_selic_pct  taxa_selic_pctaa vigencia_inicio vigencia_fim   \n",
       "261            1.53             19.05      1997-10-01   1997-10-30  \\\n",
       "\n",
       "    data_comunicao_decisao_vies  taxaemeta_dif  tbc_pctam  tbc_pctaa   \n",
       "261                         NaT            NaN       1.58        NaN  \\\n",
       "\n",
       "     tban_pctaa  \n",
       "261         NaN  "
      ]
     },
     "execution_count": 46,
     "metadata": {},
     "output_type": "execute_result"
    }
   ],
   "source": [
    "selic_df.query('taxa_selic_pct < tbc_pctam')"
   ]
  },
  {
   "cell_type": "markdown",
   "id": "dc76af0f-5b79-47fa-8095-7b5cb7c2088a",
   "metadata": {},
   "source": [
    "Let's visualize the period when both TBAN and TBC were annualized"
   ]
  },
  {
   "cell_type": "code",
   "execution_count": 47,
   "id": "1171960a-02f0-4699-98eb-02276be07387",
   "metadata": {},
   "outputs": [
    {
     "data": {
      "text/plain": [
       "[]"
      ]
     },
     "execution_count": 47,
     "metadata": {},
     "output_type": "execute_result"
    },
    {
     "data": {
      "image/png": "[encoded data removed]",
      "text/plain": [
       "<Figure size 640x480 with 1 Axes>"
      ]
     },
     "metadata": {},
     "output_type": "display_data"
    }
   ],
   "source": [
    "fig, ax = plt.subplots()\n",
    "selic_df.plot(\n",
    "    x = 'vigencia_inicio', \n",
    "    y =  ['tbc_pctaa', 'tban_pctaa'], \n",
    "    drawstyle='steps-post', \n",
    "    grid=True,\n",
    "    ax = ax\n",
    ")\n",
    "selic_df.query('vigencia_inicio > \"02/01/98\" & vigencia_inicio < \"4/3/99\"').plot(\n",
    "    x = 'vigencia_inicio', \n",
    "    y = 'taxa_selic_pctaa', \n",
    "    drawstyle='steps-post', \n",
    "    ax = ax)\n",
    "ax.fill_between(selic_df['vigencia_inicio'], selic_df['tbc_pctaa'], selic_df['tban_pctaa'], alpha= .2, step='pre')\n",
    "plt.plot()"
   ]
  },
  {
   "cell_type": "markdown",
   "id": "97ef6b0d-b2ef-44c4-ae23-ec2d7a5de057",
   "metadata": {},
   "source": [
    "During the period when the rates were annualized, we can see that the interest rate was outside the interest bands on a few occasions, which means that the interest rate was not controlled by the set bands. Let's count how many periods it was outside the interest rate bands."
   ]
  },
  {
   "cell_type": "code",
   "execution_count": 48,
   "id": "f97fe39d-2da5-4705-9a16-ed85ed7ec04d",
   "metadata": {},
   "outputs": [
    {
     "data": {
      "text/plain": [
       "7"
      ]
     },
     "execution_count": 48,
     "metadata": {},
     "output_type": "execute_result"
    }
   ],
   "source": [
    "len(selic_df.query('taxa_selic_pctaa < tbc_pctaa | tban_pctaa < taxa_selic_pctaa'))"
   ]
  },
  {
   "cell_type": "markdown",
   "id": "e390476f-71d4-4b45-81b2-4d81be3f42bd",
   "metadata": {},
   "source": [
    "7 times in a small period of time.\n",
    "\n",
    "Back at data transformation, we can see that we don't have an evenly spaced data, because the days between meetings varies. Therefore we need to make it evenly by turning it into monthly data. To do that we are going to leverage the taxa_selic_pctaa column, which is the annual inflation rate and is annualized using 252 days. To do this, we first compute the factors of each working day."
   ]
  },
  {
   "cell_type": "code",
   "execution_count": 49,
   "id": "66b48394-4d30-4247-a8b5-0e875468517a",
   "metadata": {},
   "outputs": [
    {
     "data": {
      "text/html": [
       "<div>\n",
       "<style scoped>\n",
       "    .dataframe tbody tr th:only-of-type {\n",
       "        vertical-align: middle;\n",
       "    }\n",
       "\n",
       "    .dataframe tbody tr th {\n",
       "        vertical-align: top;\n",
       "    }\n",
       "\n",
       "    .dataframe thead th {\n",
       "        text-align: right;\n",
       "    }\n",
       "</style>\n",
       "<table border=\"1\" class=\"dataframe\">\n",
       "  <thead>\n",
       "    <tr style=\"text-align: right;\">\n",
       "      <th></th>\n",
       "      <th>taxa_selic_pctaa</th>\n",
       "      <th>meta_selic_pctaa</th>\n",
       "    </tr>\n",
       "    <tr>\n",
       "      <th>vigencia_inicio</th>\n",
       "      <th></th>\n",
       "      <th></th>\n",
       "    </tr>\n",
       "  </thead>\n",
       "  <tbody>\n",
       "    <tr>\n",
       "      <th>2025-03-14</th>\n",
       "      <td>1.00049</td>\n",
       "      <td>1.000494</td>\n",
       "    </tr>\n",
       "    <tr>\n",
       "      <th>2025-03-17</th>\n",
       "      <td>1.00049</td>\n",
       "      <td>1.000494</td>\n",
       "    </tr>\n",
       "    <tr>\n",
       "      <th>2025-03-18</th>\n",
       "      <td>1.00049</td>\n",
       "      <td>1.000494</td>\n",
       "    </tr>\n",
       "    <tr>\n",
       "      <th>2025-03-19</th>\n",
       "      <td>1.00049</td>\n",
       "      <td>1.000494</td>\n",
       "    </tr>\n",
       "    <tr>\n",
       "      <th>2025-03-20</th>\n",
       "      <td>NaN</td>\n",
       "      <td>1.000529</td>\n",
       "    </tr>\n",
       "  </tbody>\n",
       "</table>\n",
       "</div>"
      ],
      "text/plain": [
       "                 taxa_selic_pctaa  meta_selic_pctaa\n",
       "vigencia_inicio                                    \n",
       "2025-03-14                1.00049          1.000494\n",
       "2025-03-17                1.00049          1.000494\n",
       "2025-03-18                1.00049          1.000494\n",
       "2025-03-19                1.00049          1.000494\n",
       "2025-03-20                    NaN          1.000529"
      ]
     },
     "execution_count": 49,
     "metadata": {},
     "output_type": "execute_result"
    }
   ],
   "source": [
    "resampled_selic_df = selic_df[['vigencia_inicio', 'taxa_selic_pctaa', 'meta_selic_pctaa']]\\\n",
    "    .set_index('vigencia_inicio')\\\n",
    "    .apply(lambda x: np.power(1 + x/100, 1/252))\\\n",
    "    .resample('B')\\\n",
    "    .ffill()\n",
    "\n",
    "resampled_selic_df.tail()"
   ]
  },
  {
   "cell_type": "markdown",
   "id": "739ce845-d75c-46e9-add3-8589eacc2ebb",
   "metadata": {},
   "source": [
    "We just converted the value to daily using $\\textrm{daily factor} = (1 + \\textrm{annual interest rate})^{1/252}$"
   ]
  },
  {
   "cell_type": "markdown",
   "id": "8215df28-75ad-4ca8-8120-f100feed9b3e",
   "metadata": {},
   "source": [
    "In addition to considering only working days, we also need to exclude brazilian holydays so we can get monthly values."
   ]
  },
  {
   "cell_type": "markdown",
   "id": "d6343dea-72ec-40b5-9112-059bb8527980",
   "metadata": {},
   "source": [
    "Refering to the <a href=\"https://www.bcb.gov.br/cidadaniafinanceira/direitosdeveres\"> BCB (Brazilian Central Bank) website</a>, besides the usual brazilian holidays, the following days are also considered holidays.\n",
    "\n",
    "* Brazilian carnival dates (monday and tuesday)\n",
    "* second day of November"
   ]
  },
  {
   "cell_type": "markdown",
   "id": "f976f324-30e9-40fd-a2ed-112a4dcce993",
   "metadata": {},
   "source": [
    "I collected those days using the script scrap_feriados.py and I stored the data in the feriados.csv file."
   ]
  },
  {
   "cell_type": "code",
   "execution_count": 50,
   "id": "d4beaa03-0613-4e80-9116-4da2c1429ccf",
   "metadata": {},
   "outputs": [],
   "source": [
    "holidays_df = pd.read_csv('data/feriados.csv')"
   ]
  },
  {
   "cell_type": "code",
   "execution_count": 51,
   "id": "54c1d7aa-deb5-445e-b288-4a71461d6ae3",
   "metadata": {},
   "outputs": [],
   "source": [
    "for feriado in holidays_df:\n",
    "    holidays_df[feriado] = pd.to_datetime(holidays_df[feriado])"
   ]
  },
  {
   "cell_type": "code",
   "execution_count": 52,
   "id": "eeb76af5-14c7-449e-91d9-f6e586a96e70",
   "metadata": {},
   "outputs": [],
   "source": [
    "holidays_df = holidays_df.unstack().to_frame().set_index(0)"
   ]
  },
  {
   "cell_type": "markdown",
   "id": "604ef542-39bb-41ae-b727-de3bfcf554f0",
   "metadata": {},
   "source": [
    "Using the daily factor we multiply by the number of days in each month and subytract by 1 to get the monthly values. We multiply by 100 to get in percent."
   ]
  },
  {
   "cell_type": "code",
   "execution_count": 53,
   "id": "43f4d4f1-9ffa-4ffa-8d23-f33c8cb4fe22",
   "metadata": {},
   "outputs": [
    {
     "data": {
      "text/html": [
       "<div>\n",
       "<style scoped>\n",
       "    .dataframe tbody tr th:only-of-type {\n",
       "        vertical-align: middle;\n",
       "    }\n",
       "\n",
       "    .dataframe tbody tr th {\n",
       "        vertical-align: top;\n",
       "    }\n",
       "\n",
       "    .dataframe thead th {\n",
       "        text-align: right;\n",
       "    }\n",
       "</style>\n",
       "<table border=\"1\" class=\"dataframe\">\n",
       "  <thead>\n",
       "    <tr style=\"text-align: right;\">\n",
       "      <th></th>\n",
       "      <th>taxa_selic_pctaa</th>\n",
       "      <th>meta_selic_pctaa</th>\n",
       "    </tr>\n",
       "    <tr>\n",
       "      <th>vigencia_inicio</th>\n",
       "      <th></th>\n",
       "      <th></th>\n",
       "    </tr>\n",
       "  </thead>\n",
       "  <tbody>\n",
       "    <tr>\n",
       "      <th>1996-07-31</th>\n",
       "      <td>1.928529</td>\n",
       "      <td>0.0</td>\n",
       "    </tr>\n",
       "    <tr>\n",
       "      <th>1996-08-31</th>\n",
       "      <td>1.967890</td>\n",
       "      <td>0.0</td>\n",
       "    </tr>\n",
       "    <tr>\n",
       "      <th>1996-09-30</th>\n",
       "      <td>1.904054</td>\n",
       "      <td>0.0</td>\n",
       "    </tr>\n",
       "    <tr>\n",
       "      <th>1996-10-31</th>\n",
       "      <td>1.943610</td>\n",
       "      <td>0.0</td>\n",
       "    </tr>\n",
       "    <tr>\n",
       "      <th>1996-11-30</th>\n",
       "      <td>1.804187</td>\n",
       "      <td>0.0</td>\n",
       "    </tr>\n",
       "  </tbody>\n",
       "</table>\n",
       "</div>"
      ],
      "text/plain": [
       "                 taxa_selic_pctaa  meta_selic_pctaa\n",
       "vigencia_inicio                                    \n",
       "1996-07-31               1.928529               0.0\n",
       "1996-08-31               1.967890               0.0\n",
       "1996-09-30               1.904054               0.0\n",
       "1996-10-31               1.943610               0.0\n",
       "1996-11-30               1.804187               0.0"
      ]
     },
     "execution_count": 53,
     "metadata": {},
     "output_type": "execute_result"
    }
   ],
   "source": [
    "monthly_selic_df = resampled_selic_df[~resampled_selic_df.index.isin(holidays_df.index)]\\\n",
    "    .resample('M')\\\n",
    "    .prod()\\\n",
    "    .apply(lambda x: (x - 1) * 100)\n",
    "monthly_selic_df = monthly_selic_df.iloc[:-1, :]\n",
    "monthly_selic_df.head()"
   ]
  },
  {
   "cell_type": "markdown",
   "id": "937d88fc-ed8c-40c5-9746-1eb1637d092c",
   "metadata": {},
   "source": [
    "Since the current month may be incomplete, we skip it. Additionally, the index doesn't represent a specific date but rather a monthly period, so we adjust it."
   ]
  },
  {
   "cell_type": "code",
   "execution_count": 54,
   "id": "256205a8-9dc2-4a4f-831a-20a59153f88b",
   "metadata": {},
   "outputs": [
    {
     "data": {
      "text/html": [
       "<div>\n",
       "<style scoped>\n",
       "    .dataframe tbody tr th:only-of-type {\n",
       "        vertical-align: middle;\n",
       "    }\n",
       "\n",
       "    .dataframe tbody tr th {\n",
       "        vertical-align: top;\n",
       "    }\n",
       "\n",
       "    .dataframe thead th {\n",
       "        text-align: right;\n",
       "    }\n",
       "</style>\n",
       "<table border=\"1\" class=\"dataframe\">\n",
       "  <thead>\n",
       "    <tr style=\"text-align: right;\">\n",
       "      <th></th>\n",
       "      <th>periodo_mes</th>\n",
       "      <th>selic_acumulada_mes</th>\n",
       "      <th>meta_acumulada_mes</th>\n",
       "    </tr>\n",
       "  </thead>\n",
       "  <tbody>\n",
       "    <tr>\n",
       "      <th>0</th>\n",
       "      <td>1996-07</td>\n",
       "      <td>1.928529</td>\n",
       "      <td>0.0</td>\n",
       "    </tr>\n",
       "    <tr>\n",
       "      <th>1</th>\n",
       "      <td>1996-08</td>\n",
       "      <td>1.967890</td>\n",
       "      <td>0.0</td>\n",
       "    </tr>\n",
       "    <tr>\n",
       "      <th>2</th>\n",
       "      <td>1996-09</td>\n",
       "      <td>1.904054</td>\n",
       "      <td>0.0</td>\n",
       "    </tr>\n",
       "    <tr>\n",
       "      <th>3</th>\n",
       "      <td>1996-10</td>\n",
       "      <td>1.943610</td>\n",
       "      <td>0.0</td>\n",
       "    </tr>\n",
       "    <tr>\n",
       "      <th>4</th>\n",
       "      <td>1996-11</td>\n",
       "      <td>1.804187</td>\n",
       "      <td>0.0</td>\n",
       "    </tr>\n",
       "  </tbody>\n",
       "</table>\n",
       "</div>"
      ],
      "text/plain": [
       "  periodo_mes  selic_acumulada_mes  meta_acumulada_mes\n",
       "0     1996-07             1.928529                 0.0\n",
       "1     1996-08             1.967890                 0.0\n",
       "2     1996-09             1.904054                 0.0\n",
       "3     1996-10             1.943610                 0.0\n",
       "4     1996-11             1.804187                 0.0"
      ]
     },
     "execution_count": 54,
     "metadata": {},
     "output_type": "execute_result"
    }
   ],
   "source": [
    "monthly_selic_df.index = monthly_selic_df.index.to_period()\n",
    "monthly_selic_df = monthly_selic_df.reset_index()\n",
    "monthly_selic_df = monthly_selic_df.rename(columns = {\n",
    "    'vigencia_inicio': 'periodo_mes',\n",
    "    'meta_selic_pctaa': 'meta_acumulada_mes', \n",
    "    'taxa_selic_pctaa': 'selic_acumulada_mes'\n",
    "})\n",
    "monthly_selic_df.head()"
   ]
  },
  {
   "cell_type": "markdown",
   "id": "e62a6127-ae6d-40c8-b9a3-f98b870ab146",
   "metadata": {},
   "source": [
    "From the above table, we can see that the meta contains the number 0 in dates where it didn't exist. This is due to the transformation that we applied to convert to daily interest rate into monthly interest rate. We can replace them with NaN."
   ]
  },
  {
   "cell_type": "code",
   "execution_count": 55,
   "id": "96b6ad9c-6959-4cfa-a421-7bcf0e294ef3",
   "metadata": {},
   "outputs": [],
   "source": [
    "monthly_selic_df['meta_acumulada_mes'] = monthly_selic_df['meta_acumulada_mes'].replace(0, np.nan)"
   ]
  },
  {
   "cell_type": "markdown",
   "id": "7bb544fc-4129-489e-984b-0d936505a390",
   "metadata": {},
   "source": [
    "We also create an annual table"
   ]
  },
  {
   "cell_type": "code",
   "execution_count": 56,
   "id": "4c3d534c-b620-453e-a6ca-f039efe219a8",
   "metadata": {},
   "outputs": [
    {
     "data": {
      "text/html": [
       "<div>\n",
       "<style scoped>\n",
       "    .dataframe tbody tr th:only-of-type {\n",
       "        vertical-align: middle;\n",
       "    }\n",
       "\n",
       "    .dataframe tbody tr th {\n",
       "        vertical-align: top;\n",
       "    }\n",
       "\n",
       "    .dataframe thead th {\n",
       "        text-align: right;\n",
       "    }\n",
       "</style>\n",
       "<table border=\"1\" class=\"dataframe\">\n",
       "  <thead>\n",
       "    <tr style=\"text-align: right;\">\n",
       "      <th></th>\n",
       "      <th>ano</th>\n",
       "      <th>selic_acumulada_ano</th>\n",
       "      <th>meta_acumulada_ano</th>\n",
       "      <th>meta_selic_ano</th>\n",
       "    </tr>\n",
       "  </thead>\n",
       "  <tbody>\n",
       "    <tr>\n",
       "      <th>0</th>\n",
       "      <td>1996</td>\n",
       "      <td>11.903565</td>\n",
       "      <td>0.000000</td>\n",
       "      <td>NaN</td>\n",
       "    </tr>\n",
       "    <tr>\n",
       "      <th>1</th>\n",
       "      <td>1997</td>\n",
       "      <td>24.895246</td>\n",
       "      <td>0.000000</td>\n",
       "      <td>NaN</td>\n",
       "    </tr>\n",
       "    <tr>\n",
       "      <th>2</th>\n",
       "      <td>1998</td>\n",
       "      <td>28.920267</td>\n",
       "      <td>0.000000</td>\n",
       "      <td>NaN</td>\n",
       "    </tr>\n",
       "    <tr>\n",
       "      <th>3</th>\n",
       "      <td>1999</td>\n",
       "      <td>25.753425</td>\n",
       "      <td>19.637241</td>\n",
       "      <td>19.637241</td>\n",
       "    </tr>\n",
       "    <tr>\n",
       "      <th>4</th>\n",
       "      <td>2000</td>\n",
       "      <td>17.433384</td>\n",
       "      <td>17.453366</td>\n",
       "      <td>17.453366</td>\n",
       "    </tr>\n",
       "  </tbody>\n",
       "</table>\n",
       "</div>"
      ],
      "text/plain": [
       "    ano  selic_acumulada_ano  meta_acumulada_ano  meta_selic_ano\n",
       "0  1996            11.903565            0.000000             NaN\n",
       "1  1997            24.895246            0.000000             NaN\n",
       "2  1998            28.920267            0.000000             NaN\n",
       "3  1999            25.753425           19.637241       19.637241\n",
       "4  2000            17.433384           17.453366       17.453366"
      ]
     },
     "execution_count": 56,
     "metadata": {},
     "output_type": "execute_result"
    }
   ],
   "source": [
    "annual_selic_df = resampled_selic_df[~resampled_selic_df.index.isin(holidays_df.index)]\\\n",
    "    .resample('Y')\\\n",
    "    .prod()\\\n",
    "    .apply(lambda x: (x - 1) * 100)\n",
    "annual_selic_df = annual_selic_df.reset_index()\n",
    "annual_selic_df = annual_selic_df.rename(columns = {\n",
    "    'vigencia_inicio': 'ano',\n",
    "    'taxa_selic_pctaa': 'selic_acumulada_ano',\n",
    "    'meta_selic_pctaa': 'meta_acumulada_ano'\n",
    "})\n",
    "annual_selic_df['ano'] = annual_selic_df['ano'].dt.year\n",
    "annual_selic_df = annual_selic_df.iloc[:-1, :]\n",
    "annual_selic_df['meta_selic_ano'] = annual_selic_df['meta_acumulada_ano'].replace(0, np.nan)\n",
    "annual_selic_df.head()"
   ]
  },
  {
   "cell_type": "markdown",
   "id": "9ae1fa2f-e58b-4bef-b6b8-1310c3222129",
   "metadata": {},
   "source": [
    "<hr>\n",
    "\n",
    "<h3><span id='IPCA'></span>2. IPCA</h3>\n",
    "\n",
    "We also have to extract the IPCA data (Inflation rate). It can be found on <a href= 'https://ftp.ibge.gov.br/Precos_Indices_de_Precos_ao_Consumidor/IPCA/Serie_Historica/ipca_SerieHist.zip'>IBGE website</a>"
   ]
  },
  {
   "cell_type": "code",
   "execution_count": 57,
   "id": "747aae06-390d-4b2f-acb7-a4f359e78536",
   "metadata": {},
   "outputs": [],
   "source": [
    "import requests\n",
    "from io import BytesIO\n",
    "from zipfile import ZipFile"
   ]
  },
  {
   "cell_type": "code",
   "execution_count": 58,
   "id": "02c2612f-a2e5-47ce-b465-1d33adfa0f49",
   "metadata": {},
   "outputs": [],
   "source": [
    "ipca_url = \"https://ftp.ibge.gov.br/Precos_Indices_de_Precos_ao_Consumidor/IPCA/Serie_Historica/ipca_SerieHist.zip\"\n",
    "file = requests.get(ipca_url).content\n",
    "file_bytes = BytesIO(file)\n",
    "\n",
    "unzipped = ZipFile(file_bytes)\n",
    "ipca_file = unzipped.namelist()[0]"
   ]
  },
  {
   "cell_type": "code",
   "execution_count": 59,
   "id": "a8001d5c-ee01-43d8-9e1b-05e8bc4cf8db",
   "metadata": {},
   "outputs": [
    {
     "data": {
      "text/html": [
       "<div>\n",
       "<style scoped>\n",
       "    .dataframe tbody tr th:only-of-type {\n",
       "        vertical-align: middle;\n",
       "    }\n",
       "\n",
       "    .dataframe tbody tr th {\n",
       "        vertical-align: top;\n",
       "    }\n",
       "\n",
       "    .dataframe thead th {\n",
       "        text-align: right;\n",
       "    }\n",
       "</style>\n",
       "<table border=\"1\" class=\"dataframe\">\n",
       "  <thead>\n",
       "    <tr style=\"text-align: right;\">\n",
       "      <th></th>\n",
       "      <th>Unnamed: 0</th>\n",
       "      <th>Unnamed: 1</th>\n",
       "      <th>Unnamed: 2</th>\n",
       "      <th>Unnamed: 3</th>\n",
       "      <th>Unnamed: 4</th>\n",
       "      <th>Unnamed: 5</th>\n",
       "      <th>Unnamed: 6</th>\n",
       "      <th>Unnamed: 7</th>\n",
       "    </tr>\n",
       "  </thead>\n",
       "  <tbody>\n",
       "    <tr>\n",
       "      <th>0</th>\n",
       "      <td>SÉRIE HISTÓRICA DO IPCA</td>\n",
       "      <td>NaN</td>\n",
       "      <td>NaN</td>\n",
       "      <td>NaN</td>\n",
       "      <td>NaN</td>\n",
       "      <td>NaN</td>\n",
       "      <td>NaN</td>\n",
       "      <td>NaN</td>\n",
       "    </tr>\n",
       "    <tr>\n",
       "      <th>1</th>\n",
       "      <td>NaN</td>\n",
       "      <td>NaN</td>\n",
       "      <td>NaN</td>\n",
       "      <td>NaN</td>\n",
       "      <td>NaN</td>\n",
       "      <td>NaN</td>\n",
       "      <td>NaN</td>\n",
       "      <td>(continua)</td>\n",
       "    </tr>\n",
       "    <tr>\n",
       "      <th>2</th>\n",
       "      <td>NaN</td>\n",
       "      <td>NaN</td>\n",
       "      <td>NaN</td>\n",
       "      <td>NaN</td>\n",
       "      <td>NaN</td>\n",
       "      <td>VARIAÇÃO</td>\n",
       "      <td>NaN</td>\n",
       "      <td>NaN</td>\n",
       "    </tr>\n",
       "    <tr>\n",
       "      <th>3</th>\n",
       "      <td>ANO</td>\n",
       "      <td>MÊS</td>\n",
       "      <td>NÚMERO ÍNDICE</td>\n",
       "      <td>(%)</td>\n",
       "      <td>NaN</td>\n",
       "      <td>NaN</td>\n",
       "      <td>NaN</td>\n",
       "      <td>NaN</td>\n",
       "    </tr>\n",
       "    <tr>\n",
       "      <th>4</th>\n",
       "      <td>NaN</td>\n",
       "      <td>NaN</td>\n",
       "      <td>(DEZ 93 = 100)</td>\n",
       "      <td>NO</td>\n",
       "      <td>3</td>\n",
       "      <td>6</td>\n",
       "      <td>NO</td>\n",
       "      <td>12</td>\n",
       "    </tr>\n",
       "    <tr>\n",
       "      <th>5</th>\n",
       "      <td>NaN</td>\n",
       "      <td>NaN</td>\n",
       "      <td>NaN</td>\n",
       "      <td>MÊS</td>\n",
       "      <td>MESES</td>\n",
       "      <td>MESES</td>\n",
       "      <td>ANO</td>\n",
       "      <td>MESES</td>\n",
       "    </tr>\n",
       "    <tr>\n",
       "      <th>6</th>\n",
       "      <td>NaN</td>\n",
       "      <td>NaN</td>\n",
       "      <td>NaN</td>\n",
       "      <td>NaN</td>\n",
       "      <td>NaN</td>\n",
       "      <td>NaN</td>\n",
       "      <td>NaN</td>\n",
       "      <td>NaN</td>\n",
       "    </tr>\n",
       "    <tr>\n",
       "      <th>7</th>\n",
       "      <td>1994</td>\n",
       "      <td>JAN</td>\n",
       "      <td>141.31</td>\n",
       "      <td>41.31</td>\n",
       "      <td>162.13</td>\n",
       "      <td>533.33</td>\n",
       "      <td>41.31</td>\n",
       "      <td>2693.84</td>\n",
       "    </tr>\n",
       "    <tr>\n",
       "      <th>8</th>\n",
       "      <td>NaN</td>\n",
       "      <td>FEV</td>\n",
       "      <td>198.22</td>\n",
       "      <td>40.27</td>\n",
       "      <td>171.24</td>\n",
       "      <td>568.17</td>\n",
       "      <td>98.22</td>\n",
       "      <td>3035.71</td>\n",
       "    </tr>\n",
       "    <tr>\n",
       "      <th>9</th>\n",
       "      <td>NaN</td>\n",
       "      <td>MAR</td>\n",
       "      <td>282.96</td>\n",
       "      <td>42.75</td>\n",
       "      <td>182.96</td>\n",
       "      <td>602.93</td>\n",
       "      <td>182.96</td>\n",
       "      <td>3417.39</td>\n",
       "    </tr>\n",
       "  </tbody>\n",
       "</table>\n",
       "</div>"
      ],
      "text/plain": [
       "                Unnamed: 0 Unnamed: 1      Unnamed: 2 Unnamed: 3 Unnamed: 4   \n",
       "0  SÉRIE HISTÓRICA DO IPCA        NaN             NaN        NaN        NaN  \\\n",
       "1                      NaN        NaN             NaN        NaN        NaN   \n",
       "2                      NaN        NaN             NaN        NaN        NaN   \n",
       "3                      ANO        MÊS   NÚMERO ÍNDICE        (%)        NaN   \n",
       "4                      NaN        NaN  (DEZ 93 = 100)         NO          3   \n",
       "5                      NaN        NaN             NaN        MÊS      MESES   \n",
       "6                      NaN        NaN             NaN        NaN        NaN   \n",
       "7                     1994        JAN          141.31      41.31     162.13   \n",
       "8                      NaN        FEV          198.22      40.27     171.24   \n",
       "9                      NaN        MAR          282.96      42.75     182.96   \n",
       "\n",
       "     Unnamed: 5 Unnamed: 6  Unnamed: 7  \n",
       "0           NaN        NaN         NaN  \n",
       "1           NaN        NaN  (continua)  \n",
       "2      VARIAÇÃO        NaN         NaN  \n",
       "3           NaN        NaN         NaN  \n",
       "4             6         NO          12  \n",
       "5         MESES        ANO       MESES  \n",
       "6           NaN        NaN         NaN  \n",
       "7        533.33      41.31     2693.84  \n",
       "8        568.17      98.22     3035.71  \n",
       "9        602.93     182.96     3417.39  "
      ]
     },
     "execution_count": 59,
     "metadata": {},
     "output_type": "execute_result"
    }
   ],
   "source": [
    "ipca_df = pd.read_excel(BytesIO(unzipped.read(ipca_file)))\n",
    "ipca_df.head(10)"
   ]
  },
  {
   "cell_type": "markdown",
   "id": "6d028b75-3117-45f4-b5f1-7fa363a7d934",
   "metadata": {},
   "source": [
    "We can see that the formatting is not good. After a close inspection, we may be able to filter the data and create a more readable table."
   ]
  },
  {
   "cell_type": "code",
   "execution_count": 60,
   "id": "ada9e569-596c-4bdc-bbd9-636d1f8b77c9",
   "metadata": {},
   "outputs": [
    {
     "data": {
      "text/html": [
       "<div>\n",
       "<style scoped>\n",
       "    .dataframe tbody tr th:only-of-type {\n",
       "        vertical-align: middle;\n",
       "    }\n",
       "\n",
       "    .dataframe tbody tr th {\n",
       "        vertical-align: top;\n",
       "    }\n",
       "\n",
       "    .dataframe thead th {\n",
       "        text-align: right;\n",
       "    }\n",
       "</style>\n",
       "<table border=\"1\" class=\"dataframe\">\n",
       "  <thead>\n",
       "    <tr style=\"text-align: right;\">\n",
       "      <th></th>\n",
       "      <th>ano</th>\n",
       "      <th>mes</th>\n",
       "      <th>ipca_numero_indice</th>\n",
       "      <th>ipca_var_mensal</th>\n",
       "      <th>ipca_var_trimestral</th>\n",
       "      <th>ipca_var_semetral</th>\n",
       "      <th>ipca_no_ano</th>\n",
       "      <th>ipca_acumulado_ano</th>\n",
       "    </tr>\n",
       "  </thead>\n",
       "  <tbody>\n",
       "    <tr>\n",
       "      <th>0</th>\n",
       "      <td>1994</td>\n",
       "      <td>JAN</td>\n",
       "      <td>141.31</td>\n",
       "      <td>41.31</td>\n",
       "      <td>162.13</td>\n",
       "      <td>533.33</td>\n",
       "      <td>41.31</td>\n",
       "      <td>2693.84</td>\n",
       "    </tr>\n",
       "    <tr>\n",
       "      <th>1</th>\n",
       "      <td>NaN</td>\n",
       "      <td>FEV</td>\n",
       "      <td>198.22</td>\n",
       "      <td>40.27</td>\n",
       "      <td>171.24</td>\n",
       "      <td>568.17</td>\n",
       "      <td>98.22</td>\n",
       "      <td>3035.71</td>\n",
       "    </tr>\n",
       "    <tr>\n",
       "      <th>2</th>\n",
       "      <td>NaN</td>\n",
       "      <td>MAR</td>\n",
       "      <td>282.96</td>\n",
       "      <td>42.75</td>\n",
       "      <td>182.96</td>\n",
       "      <td>602.93</td>\n",
       "      <td>182.96</td>\n",
       "      <td>3417.39</td>\n",
       "    </tr>\n",
       "    <tr>\n",
       "      <th>3</th>\n",
       "      <td>NaN</td>\n",
       "      <td>ABR</td>\n",
       "      <td>403.73</td>\n",
       "      <td>42.68</td>\n",
       "      <td>185.71</td>\n",
       "      <td>648.92</td>\n",
       "      <td>303.73</td>\n",
       "      <td>3828.49</td>\n",
       "    </tr>\n",
       "    <tr>\n",
       "      <th>4</th>\n",
       "      <td>NaN</td>\n",
       "      <td>MAI</td>\n",
       "      <td>581.49</td>\n",
       "      <td>44.03</td>\n",
       "      <td>193.36</td>\n",
       "      <td>695.71</td>\n",
       "      <td>481.49</td>\n",
       "      <td>4331.19</td>\n",
       "    </tr>\n",
       "  </tbody>\n",
       "</table>\n",
       "</div>"
      ],
      "text/plain": [
       "    ano  mes ipca_numero_indice ipca_var_mensal ipca_var_trimestral   \n",
       "0  1994  JAN             141.31           41.31              162.13  \\\n",
       "1   NaN  FEV             198.22           40.27              171.24   \n",
       "2   NaN  MAR             282.96           42.75              182.96   \n",
       "3   NaN  ABR             403.73           42.68              185.71   \n",
       "4   NaN  MAI             581.49           44.03              193.36   \n",
       "\n",
       "  ipca_var_semetral ipca_no_ano ipca_acumulado_ano  \n",
       "0            533.33       41.31            2693.84  \n",
       "1            568.17       98.22            3035.71  \n",
       "2            602.93      182.96            3417.39  \n",
       "3            648.92      303.73            3828.49  \n",
       "4            695.71      481.49            4331.19  "
      ]
     },
     "execution_count": 60,
     "metadata": {},
     "output_type": "execute_result"
    }
   ],
   "source": [
    "ipca_df = ipca_df[ipca_df.isnull().sum(axis = 'columns') <= 1].reset_index(drop=True)\n",
    "ipca_df_cols = [\n",
    "    'ano',\n",
    "    'mes',\n",
    "    'ipca_numero_indice',\n",
    "    'ipca_var_mensal',\n",
    "    'ipca_var_trimestral',\n",
    "    'ipca_var_semetral',\n",
    "    'ipca_no_ano',\n",
    "    'ipca_acumulado_ano'\n",
    "]\n",
    "ipca_df.columns = ipca_df_cols\n",
    "ipca_df.head()"
   ]
  },
  {
   "cell_type": "markdown",
   "id": "7ff5c44f-e625-4f8a-b904-bd5d60d6ec98",
   "metadata": {},
   "source": [
    "I realized that the data was available in rows with at most one null value, and this value was in the 'year' column. Let's check the null values"
   ]
  },
  {
   "cell_type": "code",
   "execution_count": 61,
   "id": "25483a26-764d-4982-894e-c267e4b3e8ae",
   "metadata": {},
   "outputs": [
    {
     "data": {
      "text/plain": [
       "ano    343\n",
       "dtype: int64"
      ]
     },
     "execution_count": 61,
     "metadata": {},
     "output_type": "execute_result"
    }
   ],
   "source": [
    "ipca_df.isnull().sum()[ipca_df.isnull().sum() > 0]"
   ]
  },
  {
   "cell_type": "markdown",
   "id": "7b6964f9-0fe1-4249-a0b7-b9d6aa2f3176",
   "metadata": {},
   "source": [
    "Only in the column ano(year). We will forward fill the missing years  "
   ]
  },
  {
   "cell_type": "code",
   "execution_count": 62,
   "id": "9f9f07a2-dbca-4e6f-85ef-e05e6640a82f",
   "metadata": {},
   "outputs": [
    {
     "data": {
      "text/html": [
       "<div>\n",
       "<style scoped>\n",
       "    .dataframe tbody tr th:only-of-type {\n",
       "        vertical-align: middle;\n",
       "    }\n",
       "\n",
       "    .dataframe tbody tr th {\n",
       "        vertical-align: top;\n",
       "    }\n",
       "\n",
       "    .dataframe thead th {\n",
       "        text-align: right;\n",
       "    }\n",
       "</style>\n",
       "<table border=\"1\" class=\"dataframe\">\n",
       "  <thead>\n",
       "    <tr style=\"text-align: right;\">\n",
       "      <th></th>\n",
       "      <th>ano</th>\n",
       "      <th>mes</th>\n",
       "      <th>ipca_numero_indice</th>\n",
       "      <th>ipca_var_mensal</th>\n",
       "      <th>ipca_var_trimestral</th>\n",
       "      <th>ipca_var_semetral</th>\n",
       "      <th>ipca_no_ano</th>\n",
       "      <th>ipca_acumulado_ano</th>\n",
       "    </tr>\n",
       "  </thead>\n",
       "  <tbody>\n",
       "    <tr>\n",
       "      <th>0</th>\n",
       "      <td>1994</td>\n",
       "      <td>JAN</td>\n",
       "      <td>141.31</td>\n",
       "      <td>41.31</td>\n",
       "      <td>162.13</td>\n",
       "      <td>533.33</td>\n",
       "      <td>41.31</td>\n",
       "      <td>2693.84</td>\n",
       "    </tr>\n",
       "    <tr>\n",
       "      <th>1</th>\n",
       "      <td>1994</td>\n",
       "      <td>FEV</td>\n",
       "      <td>198.22</td>\n",
       "      <td>40.27</td>\n",
       "      <td>171.24</td>\n",
       "      <td>568.17</td>\n",
       "      <td>98.22</td>\n",
       "      <td>3035.71</td>\n",
       "    </tr>\n",
       "    <tr>\n",
       "      <th>2</th>\n",
       "      <td>1994</td>\n",
       "      <td>MAR</td>\n",
       "      <td>282.96</td>\n",
       "      <td>42.75</td>\n",
       "      <td>182.96</td>\n",
       "      <td>602.93</td>\n",
       "      <td>182.96</td>\n",
       "      <td>3417.39</td>\n",
       "    </tr>\n",
       "    <tr>\n",
       "      <th>3</th>\n",
       "      <td>1994</td>\n",
       "      <td>ABR</td>\n",
       "      <td>403.73</td>\n",
       "      <td>42.68</td>\n",
       "      <td>185.71</td>\n",
       "      <td>648.92</td>\n",
       "      <td>303.73</td>\n",
       "      <td>3828.49</td>\n",
       "    </tr>\n",
       "    <tr>\n",
       "      <th>4</th>\n",
       "      <td>1994</td>\n",
       "      <td>MAI</td>\n",
       "      <td>581.49</td>\n",
       "      <td>44.03</td>\n",
       "      <td>193.36</td>\n",
       "      <td>695.71</td>\n",
       "      <td>481.49</td>\n",
       "      <td>4331.19</td>\n",
       "    </tr>\n",
       "  </tbody>\n",
       "</table>\n",
       "</div>"
      ],
      "text/plain": [
       "    ano  mes ipca_numero_indice ipca_var_mensal ipca_var_trimestral   \n",
       "0  1994  JAN             141.31           41.31              162.13  \\\n",
       "1  1994  FEV             198.22           40.27              171.24   \n",
       "2  1994  MAR             282.96           42.75              182.96   \n",
       "3  1994  ABR             403.73           42.68              185.71   \n",
       "4  1994  MAI             581.49           44.03              193.36   \n",
       "\n",
       "  ipca_var_semetral ipca_no_ano ipca_acumulado_ano  \n",
       "0            533.33       41.31            2693.84  \n",
       "1            568.17       98.22            3035.71  \n",
       "2            602.93      182.96            3417.39  \n",
       "3            648.92      303.73            3828.49  \n",
       "4            695.71      481.49            4331.19  "
      ]
     },
     "execution_count": 62,
     "metadata": {},
     "output_type": "execute_result"
    }
   ],
   "source": [
    "ipca_df['ano'] = ipca_df['ano'].ffill().astype('str')\n",
    "ipca_df.head()"
   ]
  },
  {
   "cell_type": "markdown",
   "id": "569e23d1-08fa-4570-8a38-304faa2963b1",
   "metadata": {},
   "source": [
    "<h4><span id='SobreIPCA'></span>About the dataset: IPCA</h4>\n",
    "\n",
    "| Variable   | Description                                                                                                |\n",
    "|-----------------------|-------------------------------------------------------------------------------------------|\n",
    "| ano                   | 4-digit numeric year.                                                            |\n",
    "| mes                   | The first three letters of the respective month                     |\n",
    "| ipca_numero_indice    | Weighted arithmetic average of the 16 monthly average Brazilian metropolitan indeces, computed using the Laspeyres Formula |\n",
    "| ipca_var_mensal       | Monthly variation of the IPCA index over a month     |\n",
    "| ipca_var_trimestral   | Quarterly variation of the index considering the last 3 months  |\n",
    "| ipca_var_semetral     | Six-month change in the index over the last 6 months. |\n",
    "| ipca_no_ano           | IPCA index variation in the reference month compared to the index in December of the previous year, for the reference year. |\n",
    "ipca_acumulado_ano    | Annual variation sum over 12 months                                              | \n",
    "\n",
    "The monthly IPCA index variation is the Brazilian inflation rate"
   ]
  },
  {
   "cell_type": "markdown",
   "id": "91e2cc90-5bb1-4f6e-b004-64e9352166b0",
   "metadata": {},
   "source": [
    "Let's check the types"
   ]
  },
  {
   "cell_type": "code",
   "execution_count": 63,
   "id": "2acf5ed2-57da-492b-b685-646a4f728d4d",
   "metadata": {},
   "outputs": [
    {
     "name": "stdout",
     "output_type": "stream",
     "text": [
      "<class 'pandas.core.frame.DataFrame'>\n",
      "RangeIndex: 375 entries, 0 to 374\n",
      "Data columns (total 8 columns):\n",
      " #   Column               Non-Null Count  Dtype \n",
      "---  ------               --------------  ----- \n",
      " 0   ano                  375 non-null    object\n",
      " 1   mes                  375 non-null    object\n",
      " 2   ipca_numero_indice   375 non-null    object\n",
      " 3   ipca_var_mensal      375 non-null    object\n",
      " 4   ipca_var_trimestral  375 non-null    object\n",
      " 5   ipca_var_semetral    375 non-null    object\n",
      " 6   ipca_no_ano          375 non-null    object\n",
      " 7   ipca_acumulado_ano   375 non-null    object\n",
      "dtypes: object(8)\n",
      "memory usage: 23.6+ KB\n"
     ]
    }
   ],
   "source": [
    "ipca_df.info()"
   ]
  },
  {
   "cell_type": "code",
   "execution_count": 64,
   "id": "409b2af0-f5dd-4ca0-9537-5d4cc33e3a5b",
   "metadata": {},
   "outputs": [
    {
     "data": {
      "text/plain": [
       "{'ano': {str},\n",
       " 'mes': {str},\n",
       " 'ipca_numero_indice': {float, int},\n",
       " 'ipca_var_mensal': {float, int},\n",
       " 'ipca_var_trimestral': {float, int},\n",
       " 'ipca_var_semetral': {float, int},\n",
       " 'ipca_no_ano': {float, int},\n",
       " 'ipca_acumulado_ano': {float, int}}"
      ]
     },
     "execution_count": 64,
     "metadata": {},
     "output_type": "execute_result"
    }
   ],
   "source": [
    "dfcols_type(ipca_df)"
   ]
  },
  {
   "cell_type": "markdown",
   "id": "25660767-2c12-4193-b74d-44bf395e02c1",
   "metadata": {},
   "source": [
    "As we can see, we have only two columns that are not mixed types. Before casting each column to their respective correct type, we will create a new mes (month) column where the months are the three-first-letters string."
   ]
  },
  {
   "cell_type": "code",
   "execution_count": 65,
   "id": "17f7da95-568a-4bfc-9a33-d202c71e137e",
   "metadata": {},
   "outputs": [],
   "source": [
    "meses_numcap = {\n",
    "    'JAN': '1',\n",
    "    'FEV': '2',\n",
    "    'MAR': '3',\n",
    "    'ABR': '4',\n",
    "    'MAI': '5',\n",
    "    'JUN': '6',\n",
    "    'JUL': '7',\n",
    "    'AGO': '8',\n",
    "    'SET': '9',\n",
    "    'OUT': '10',\n",
    "    'NOV': '11',\n",
    "    'DEZ': '12'\n",
    "}"
   ]
  },
  {
   "cell_type": "code",
   "execution_count": 66,
   "id": "292bd888-c679-4698-b647-00d70394ea69",
   "metadata": {},
   "outputs": [
    {
     "data": {
      "text/html": [
       "<div>\n",
       "<style scoped>\n",
       "    .dataframe tbody tr th:only-of-type {\n",
       "        vertical-align: middle;\n",
       "    }\n",
       "\n",
       "    .dataframe tbody tr th {\n",
       "        vertical-align: top;\n",
       "    }\n",
       "\n",
       "    .dataframe thead th {\n",
       "        text-align: right;\n",
       "    }\n",
       "</style>\n",
       "<table border=\"1\" class=\"dataframe\">\n",
       "  <thead>\n",
       "    <tr style=\"text-align: right;\">\n",
       "      <th></th>\n",
       "      <th>ano</th>\n",
       "      <th>mes</th>\n",
       "      <th>ipca_numero_indice</th>\n",
       "      <th>ipca_var_mensal</th>\n",
       "      <th>ipca_var_trimestral</th>\n",
       "      <th>ipca_var_semetral</th>\n",
       "      <th>ipca_no_ano</th>\n",
       "      <th>ipca_acumulado_ano</th>\n",
       "      <th>mes_num</th>\n",
       "      <th>periodo_mes</th>\n",
       "    </tr>\n",
       "  </thead>\n",
       "  <tbody>\n",
       "    <tr>\n",
       "      <th>0</th>\n",
       "      <td>1994</td>\n",
       "      <td>JAN</td>\n",
       "      <td>141.31</td>\n",
       "      <td>41.31</td>\n",
       "      <td>162.13</td>\n",
       "      <td>533.33</td>\n",
       "      <td>41.31</td>\n",
       "      <td>2693.84</td>\n",
       "      <td>1</td>\n",
       "      <td>1994-01</td>\n",
       "    </tr>\n",
       "    <tr>\n",
       "      <th>1</th>\n",
       "      <td>1994</td>\n",
       "      <td>FEV</td>\n",
       "      <td>198.22</td>\n",
       "      <td>40.27</td>\n",
       "      <td>171.24</td>\n",
       "      <td>568.17</td>\n",
       "      <td>98.22</td>\n",
       "      <td>3035.71</td>\n",
       "      <td>2</td>\n",
       "      <td>1994-02</td>\n",
       "    </tr>\n",
       "    <tr>\n",
       "      <th>2</th>\n",
       "      <td>1994</td>\n",
       "      <td>MAR</td>\n",
       "      <td>282.96</td>\n",
       "      <td>42.75</td>\n",
       "      <td>182.96</td>\n",
       "      <td>602.93</td>\n",
       "      <td>182.96</td>\n",
       "      <td>3417.39</td>\n",
       "      <td>3</td>\n",
       "      <td>1994-03</td>\n",
       "    </tr>\n",
       "    <tr>\n",
       "      <th>3</th>\n",
       "      <td>1994</td>\n",
       "      <td>ABR</td>\n",
       "      <td>403.73</td>\n",
       "      <td>42.68</td>\n",
       "      <td>185.71</td>\n",
       "      <td>648.92</td>\n",
       "      <td>303.73</td>\n",
       "      <td>3828.49</td>\n",
       "      <td>4</td>\n",
       "      <td>1994-04</td>\n",
       "    </tr>\n",
       "    <tr>\n",
       "      <th>4</th>\n",
       "      <td>1994</td>\n",
       "      <td>MAI</td>\n",
       "      <td>581.49</td>\n",
       "      <td>44.03</td>\n",
       "      <td>193.36</td>\n",
       "      <td>695.71</td>\n",
       "      <td>481.49</td>\n",
       "      <td>4331.19</td>\n",
       "      <td>5</td>\n",
       "      <td>1994-05</td>\n",
       "    </tr>\n",
       "  </tbody>\n",
       "</table>\n",
       "</div>"
      ],
      "text/plain": [
       "    ano  mes ipca_numero_indice ipca_var_mensal ipca_var_trimestral   \n",
       "0  1994  JAN             141.31           41.31              162.13  \\\n",
       "1  1994  FEV             198.22           40.27              171.24   \n",
       "2  1994  MAR             282.96           42.75              182.96   \n",
       "3  1994  ABR             403.73           42.68              185.71   \n",
       "4  1994  MAI             581.49           44.03              193.36   \n",
       "\n",
       "  ipca_var_semetral ipca_no_ano ipca_acumulado_ano mes_num periodo_mes  \n",
       "0            533.33       41.31            2693.84       1     1994-01  \n",
       "1            568.17       98.22            3035.71       2     1994-02  \n",
       "2            602.93      182.96            3417.39       3     1994-03  \n",
       "3            648.92      303.73            3828.49       4     1994-04  \n",
       "4            695.71      481.49            4331.19       5     1994-05  "
      ]
     },
     "execution_count": 66,
     "metadata": {},
     "output_type": "execute_result"
    }
   ],
   "source": [
    "ipca_df['mes_num'] = ipca_df['mes'].map(meses_numcap)\n",
    "ipca_df['periodo_mes'] = ipca_df['ano'] + '-' + ipca_df['mes_num']\n",
    "\n",
    "ipca_df['periodo_mes'] = pd.PeriodIndex(ipca_df['periodo_mes'], freq='M')\n",
    "ipca_df.head()"
   ]
  },
  {
   "cell_type": "markdown",
   "id": "fbb80538-67a9-429e-8d70-b2bc974638c0",
   "metadata": {},
   "source": [
    "We set the data types for numeric values."
   ]
  },
  {
   "cell_type": "code",
   "execution_count": 67,
   "id": "76bb92ef-1c82-4ff2-a106-bf80de3dd5c7",
   "metadata": {},
   "outputs": [
    {
     "name": "stdout",
     "output_type": "stream",
     "text": [
      "<class 'pandas.core.frame.DataFrame'>\n",
      "RangeIndex: 375 entries, 0 to 374\n",
      "Data columns (total 10 columns):\n",
      " #   Column               Non-Null Count  Dtype    \n",
      "---  ------               --------------  -----    \n",
      " 0   ano                  375 non-null    int64    \n",
      " 1   mes                  375 non-null    object   \n",
      " 2   ipca_numero_indice   375 non-null    float64  \n",
      " 3   ipca_var_mensal      375 non-null    float64  \n",
      " 4   ipca_var_trimestral  375 non-null    float64  \n",
      " 5   ipca_var_semetral    375 non-null    float64  \n",
      " 6   ipca_no_ano          375 non-null    float64  \n",
      " 7   ipca_acumulado_ano   375 non-null    float64  \n",
      " 8   mes_num              375 non-null    int64    \n",
      " 9   periodo_mes          375 non-null    period[M]\n",
      "dtypes: float64(6), int64(2), object(1), period[M](1)\n",
      "memory usage: 29.4+ KB\n"
     ]
    }
   ],
   "source": [
    "for ii in range(len(ipca_df.columns) - 1):\n",
    "    if ii == 1:\n",
    "        continue\n",
    "    ipca_df[ipca_df.columns[ii]] = pd.to_numeric(ipca_df[ipca_df.columns[ii]])\n",
    "ipca_df.info()"
   ]
  },
  {
   "cell_type": "markdown",
   "id": "21123337-4576-4938-a28e-15a7fed8f554",
   "metadata": {},
   "source": [
    "We rename the column ipca_var_mensal so we can shortten it to only ipca_mes"
   ]
  },
  {
   "cell_type": "code",
   "execution_count": 68,
   "id": "31d912c7-caf7-4a21-897f-1f2ee284e97e",
   "metadata": {},
   "outputs": [],
   "source": [
    "ipca_df = ipca_df.rename(columns =  {\n",
    "    'ipca_var_mensal' : 'ipca_mes'\n",
    "})"
   ]
  },
  {
   "cell_type": "markdown",
   "id": "7a4bb86d-d12b-428f-8b4b-ad927051fe3a",
   "metadata": {},
   "source": [
    "We create the decada (decade) column."
   ]
  },
  {
   "cell_type": "code",
   "execution_count": 69,
   "id": "9accc2b4-dc90-4ef5-973d-5a5ee93ae664",
   "metadata": {},
   "outputs": [],
   "source": [
    "ipca_df['decada'] = (np.floor(ipca_df['ano'] / 10) * 10).astype('int')"
   ]
  },
  {
   "cell_type": "markdown",
   "id": "c7a5a8d4-5aae-48c8-b846-885c9a89b08a",
   "metadata": {},
   "source": [
    "We can now limit the features to the features of interes."
   ]
  },
  {
   "cell_type": "code",
   "execution_count": 70,
   "id": "d4ddba93-963c-44d6-a528-3ee7950d87cf",
   "metadata": {},
   "outputs": [
    {
     "data": {
      "text/html": [
       "<div>\n",
       "<style scoped>\n",
       "    .dataframe tbody tr th:only-of-type {\n",
       "        vertical-align: middle;\n",
       "    }\n",
       "\n",
       "    .dataframe tbody tr th {\n",
       "        vertical-align: top;\n",
       "    }\n",
       "\n",
       "    .dataframe thead th {\n",
       "        text-align: right;\n",
       "    }\n",
       "</style>\n",
       "<table border=\"1\" class=\"dataframe\">\n",
       "  <thead>\n",
       "    <tr style=\"text-align: right;\">\n",
       "      <th></th>\n",
       "      <th>periodo_mes</th>\n",
       "      <th>mes</th>\n",
       "      <th>ano</th>\n",
       "      <th>decada</th>\n",
       "      <th>ipca_mes</th>\n",
       "    </tr>\n",
       "  </thead>\n",
       "  <tbody>\n",
       "    <tr>\n",
       "      <th>0</th>\n",
       "      <td>1994-01</td>\n",
       "      <td>JAN</td>\n",
       "      <td>1994</td>\n",
       "      <td>1990</td>\n",
       "      <td>41.31</td>\n",
       "    </tr>\n",
       "    <tr>\n",
       "      <th>1</th>\n",
       "      <td>1994-02</td>\n",
       "      <td>FEV</td>\n",
       "      <td>1994</td>\n",
       "      <td>1990</td>\n",
       "      <td>40.27</td>\n",
       "    </tr>\n",
       "    <tr>\n",
       "      <th>2</th>\n",
       "      <td>1994-03</td>\n",
       "      <td>MAR</td>\n",
       "      <td>1994</td>\n",
       "      <td>1990</td>\n",
       "      <td>42.75</td>\n",
       "    </tr>\n",
       "    <tr>\n",
       "      <th>3</th>\n",
       "      <td>1994-04</td>\n",
       "      <td>ABR</td>\n",
       "      <td>1994</td>\n",
       "      <td>1990</td>\n",
       "      <td>42.68</td>\n",
       "    </tr>\n",
       "    <tr>\n",
       "      <th>4</th>\n",
       "      <td>1994-05</td>\n",
       "      <td>MAI</td>\n",
       "      <td>1994</td>\n",
       "      <td>1990</td>\n",
       "      <td>44.03</td>\n",
       "    </tr>\n",
       "  </tbody>\n",
       "</table>\n",
       "</div>"
      ],
      "text/plain": [
       "  periodo_mes  mes   ano  decada  ipca_mes\n",
       "0     1994-01  JAN  1994    1990     41.31\n",
       "1     1994-02  FEV  1994    1990     40.27\n",
       "2     1994-03  MAR  1994    1990     42.75\n",
       "3     1994-04  ABR  1994    1990     42.68\n",
       "4     1994-05  MAI  1994    1990     44.03"
      ]
     },
     "execution_count": 70,
     "metadata": {},
     "output_type": "execute_result"
    }
   ],
   "source": [
    "ipca_mensal_df = ipca_df[['periodo_mes', 'mes', 'ano', 'decada' ,'ipca_mes']]\n",
    "ipca_mensal_df.head()"
   ]
  },
  {
   "cell_type": "markdown",
   "id": "97a12b05-f67f-466d-a5fd-7dd0e2af448a",
   "metadata": {},
   "source": [
    "We finally create the yearly version"
   ]
  },
  {
   "cell_type": "code",
   "execution_count": 71,
   "id": "5c41d2f6-57ab-451c-8300-1c7dae527961",
   "metadata": {},
   "outputs": [],
   "source": [
    "ipca_anual_df = ipca_df.groupby('ano')[['ipca_acumulado_ano', 'decada']].last().reset_index()"
   ]
  },
  {
   "cell_type": "markdown",
   "id": "510c5e05-a343-4514-8655-6e0d704fbc4c",
   "metadata": {},
   "source": [
    "<hr></hr>\n",
    "We merge the selic and the ipca monthly data"
   ]
  },
  {
   "cell_type": "code",
   "execution_count": 72,
   "id": "9bbe2f8b-fd1a-4f39-b8e7-3248860fde80",
   "metadata": {},
   "outputs": [
    {
     "data": {
      "text/html": [
       "<div>\n",
       "<style scoped>\n",
       "    .dataframe tbody tr th:only-of-type {\n",
       "        vertical-align: middle;\n",
       "    }\n",
       "\n",
       "    .dataframe tbody tr th {\n",
       "        vertical-align: top;\n",
       "    }\n",
       "\n",
       "    .dataframe thead th {\n",
       "        text-align: right;\n",
       "    }\n",
       "</style>\n",
       "<table border=\"1\" class=\"dataframe\">\n",
       "  <thead>\n",
       "    <tr style=\"text-align: right;\">\n",
       "      <th></th>\n",
       "      <th>periodo_mes</th>\n",
       "      <th>selic_acumulada_mes</th>\n",
       "      <th>meta_acumulada_mes</th>\n",
       "      <th>mes</th>\n",
       "      <th>ano</th>\n",
       "      <th>decada</th>\n",
       "      <th>ipca_mes</th>\n",
       "    </tr>\n",
       "  </thead>\n",
       "  <tbody>\n",
       "    <tr>\n",
       "      <th>0</th>\n",
       "      <td>1996-07</td>\n",
       "      <td>1.928529</td>\n",
       "      <td>NaN</td>\n",
       "      <td>JUL</td>\n",
       "      <td>1996</td>\n",
       "      <td>1990</td>\n",
       "      <td>1.11</td>\n",
       "    </tr>\n",
       "    <tr>\n",
       "      <th>1</th>\n",
       "      <td>1996-08</td>\n",
       "      <td>1.967890</td>\n",
       "      <td>NaN</td>\n",
       "      <td>AGO</td>\n",
       "      <td>1996</td>\n",
       "      <td>1990</td>\n",
       "      <td>0.44</td>\n",
       "    </tr>\n",
       "    <tr>\n",
       "      <th>2</th>\n",
       "      <td>1996-09</td>\n",
       "      <td>1.904054</td>\n",
       "      <td>NaN</td>\n",
       "      <td>SET</td>\n",
       "      <td>1996</td>\n",
       "      <td>1990</td>\n",
       "      <td>0.15</td>\n",
       "    </tr>\n",
       "    <tr>\n",
       "      <th>3</th>\n",
       "      <td>1996-10</td>\n",
       "      <td>1.943610</td>\n",
       "      <td>NaN</td>\n",
       "      <td>OUT</td>\n",
       "      <td>1996</td>\n",
       "      <td>1990</td>\n",
       "      <td>0.30</td>\n",
       "    </tr>\n",
       "    <tr>\n",
       "      <th>4</th>\n",
       "      <td>1996-11</td>\n",
       "      <td>1.804187</td>\n",
       "      <td>NaN</td>\n",
       "      <td>NOV</td>\n",
       "      <td>1996</td>\n",
       "      <td>1990</td>\n",
       "      <td>0.32</td>\n",
       "    </tr>\n",
       "  </tbody>\n",
       "</table>\n",
       "</div>"
      ],
      "text/plain": [
       "  periodo_mes  selic_acumulada_mes  meta_acumulada_mes  mes   ano  decada   \n",
       "0     1996-07             1.928529                 NaN  JUL  1996    1990  \\\n",
       "1     1996-08             1.967890                 NaN  AGO  1996    1990   \n",
       "2     1996-09             1.904054                 NaN  SET  1996    1990   \n",
       "3     1996-10             1.943610                 NaN  OUT  1996    1990   \n",
       "4     1996-11             1.804187                 NaN  NOV  1996    1990   \n",
       "\n",
       "   ipca_mes  \n",
       "0      1.11  \n",
       "1      0.44  \n",
       "2      0.15  \n",
       "3      0.30  \n",
       "4      0.32  "
      ]
     },
     "execution_count": 72,
     "metadata": {},
     "output_type": "execute_result"
    }
   ],
   "source": [
    "merged_monthly_df = monthly_selic_df.merge(ipca_mensal_df, how='inner', on='periodo_mes')\n",
    "merged_monthly_df.head()"
   ]
  },
  {
   "cell_type": "code",
   "execution_count": 73,
   "id": "01c097ed-f1a5-4eeb-acba-a2e516c3c989",
   "metadata": {},
   "outputs": [],
   "source": [
    "merged_monthly_df = merged_monthly_df[[\n",
    "    'periodo_mes', \n",
    "    'mes', \n",
    "    'ano', \n",
    "    'decada', \n",
    "    'meta_acumulada_mes', \n",
    "    'selic_acumulada_mes', \n",
    "    'ipca_mes'\n",
    "]]"
   ]
  },
  {
   "cell_type": "markdown",
   "id": "e02c37e7-b828-41e5-ae2a-ed8918cf9c64",
   "metadata": {},
   "source": [
    "We save as a tsv file."
   ]
  },
  {
   "cell_type": "code",
   "execution_count": 74,
   "id": "f6062d0f-54a8-475d-b9cc-642db3016de1",
   "metadata": {},
   "outputs": [],
   "source": [
    "merged_monthly_df.to_csv('data/selic_ipca_mes.tsv', sep = '\\t', index =  False)"
   ]
  },
  {
   "cell_type": "markdown",
   "id": "f8d01a16-2a50-4726-9d96-223758148380",
   "metadata": {},
   "source": [
    "We do the same for the ipca."
   ]
  },
  {
   "cell_type": "code",
   "execution_count": 75,
   "id": "0ef293f2-8c9b-4967-9001-182196ddd247",
   "metadata": {},
   "outputs": [],
   "source": [
    "merged_annual_df = annual_selic_df.merge(\n",
    "    ipca_anual_df, how='inner', on='ano', \n",
    ")"
   ]
  },
  {
   "cell_type": "code",
   "execution_count": 76,
   "id": "69bcb31b-dfa6-4d3f-90fe-840436b68f86",
   "metadata": {},
   "outputs": [],
   "source": [
    "merged_annual_df = merged_annual_df[['ano', 'decada', 'meta_selic_ano', 'selic_acumulada_ano', 'ipca_acumulado_ano']]"
   ]
  },
  {
   "cell_type": "code",
   "execution_count": 77,
   "id": "0c6b32e7-62f5-41d2-b6fe-72f01063f053",
   "metadata": {},
   "outputs": [],
   "source": [
    "merged_annual_df.to_csv('data/selic_ipca_ano.tsv', sep = '\\t', index = False)"
   ]
  },
  {
   "cell_type": "code",
   "execution_count": null,
   "id": "ea56680f-06da-42a6-8792-634950cb5da7",
   "metadata": {},
   "outputs": [],
   "source": []
  },
  {
   "cell_type": "code",
   "execution_count": null,
   "id": "fc834e55-3f72-4f06-8c8b-0cfeecde168d",
   "metadata": {},
   "outputs": [],
   "source": []
  }
 ],
 "metadata": {
  "kernelspec": {
   "display_name": "Python 3 (ipykernel)",
   "language": "python",
   "name": "python3"
  },
  "language_info": {
   "codemirror_mode": {
    "name": "ipython",
    "version": 3
   },
   "file_extension": ".py",
   "mimetype": "text/x-python",
   "name": "python",
   "nbconvert_exporter": "python",
   "pygments_lexer": "ipython3",
   "version": "3.11.5"
  }
 },
 "nbformat": 4,
 "nbformat_minor": 5
}
